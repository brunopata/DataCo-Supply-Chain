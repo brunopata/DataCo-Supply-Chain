{
 "cells": [
  {
   "cell_type": "markdown",
   "id": "e40e3cf7-3fd8-4e71-a229-1fac934af2f3",
   "metadata": {
    "jp-MarkdownHeadingCollapsed": true
   },
   "source": [
    "# 📊 **Supply Chain Performance — Power BI Dashboard**"
   ]
  },
  {
   "cell_type": "markdown",
   "id": "f1d8debe-08c2-4d87-810c-2fb8d5e53e44",
   "metadata": {},
   "source": [
    ">This section of the project showcases the design and implementation of a **Power BI dashboard** built to analyze and visualize supply chain data from the [DataCo Smart Supply Chain dataset](https://data.mendeley.com/datasets/8gx2fvg2k6/5).  \n",
    ">The objective is to deliver **executive-level insights** through dynamic KPIs, trend analysis and segmentation tools that support **operations**, **logistics** and **customer management**."
   ]
  },
  {
   "cell_type": "markdown",
   "id": "c87028dd-f0ae-4452-ba7c-b7690b3a0c44",
   "metadata": {},
   "source": [
    "**Key focus areas include:**\n",
    "- `Order Profitability`\n",
    "- `Delivery Efficiency and Delays`\n",
    "- `Customer Segmentation`\n",
    "- `Product Performance by Category and Geography`"
   ]
  },
  {
   "cell_type": "markdown",
   "id": "a0fed575-c3e6-4829-9aba-42e523656020",
   "metadata": {
    "jp-MarkdownHeadingCollapsed": true
   },
   "source": [
    "## 🧩 **Data Modeling Recap**"
   ]
  },
  {
   "cell_type": "markdown",
   "id": "f2e80436-26e6-46f2-bc30-6432a083c604",
   "metadata": {},
   "source": [
    "To enable efficient reporting and slicing in Power BI, the dataset was transformed into a **Snowflake Schema**, with a centralized `fact_orders` table and supporting dimension tables."
   ]
  },
  {
   "cell_type": "markdown",
   "id": "0464fa84-7b7a-40c0-9d4d-c6d45fb74f2d",
   "metadata": {},
   "source": [
    "The data was exported from BigQuery (after cleaning and normalization) and imported into Power BI as a set of CSV files."
   ]
  },
  {
   "cell_type": "markdown",
   "id": "93d71b45-2767-4e6f-a24b-b6eef532e657",
   "metadata": {},
   "source": [
    "**Relationship Diagram:**\n",
    "- 📎 View model on [dbdiagram.io](https://dbdiagram.io/d/DataCo-Supply-Chain-Schem-68308545b9f7446da3e05968)\n",
    "- 📎 Interactive docs on [dbdocs.io](https://dbdocs.io/bsilva1297/DataCo-Supply-Chain-Schema?view=table_structure)\n",
    "- 📎 PDF version in [GitHub Repo](https://github.com/brunopata/DataCo-Supply-Chain/blob/main/schema/DataCo%20Supply%20Chain%20Tables%20Schema.pdf)"
   ]
  },
  {
   "cell_type": "markdown",
   "id": "1283e179-95c1-43e1-89b0-e6f17e2e76e8",
   "metadata": {
    "jp-MarkdownHeadingCollapsed": true
   },
   "source": [
    "### 🔗 Table Summary"
   ]
  },
  {
   "cell_type": "markdown",
   "id": "ca27799b-590d-4206-ae5a-19fd74540b7e",
   "metadata": {
    "jp-MarkdownHeadingCollapsed": true
   },
   "source": [
    "#### 📌 *Fact Table:*"
   ]
  },
  {
   "cell_type": "markdown",
   "id": "7db2f705-81ee-4355-b898-679823dc2475",
   "metadata": {},
   "source": [
    "- `fact_orders` – Central transactional table with **quantity**, **revenue**, **dates**, **shipping** and **customer/product** linkage"
   ]
  },
  {
   "cell_type": "markdown",
   "id": "9e8e2009-3fac-4cd1-8a45-b414055f7d03",
   "metadata": {
    "jp-MarkdownHeadingCollapsed": true
   },
   "source": [
    "#### 📎 *Dimension Tables:*"
   ]
  },
  {
   "cell_type": "markdown",
   "id": "51d5966c-9bcf-4529-9bc2-28c05a3480ed",
   "metadata": {},
   "source": [
    "- `dim_customer` – Customer profile, region, segment\n",
    "- `dim_product` – Product details, price, status\n",
    "- `dim_category` – Product category and department\n",
    "- `dim_shipping` – Delivery status and timeliness\n",
    "- `dim_order_location` – Order origin geography\n",
    "- `dim_date` – Calendar table used for date hierarchy and trends"
   ]
  },
  {
   "cell_type": "markdown",
   "id": "3c5cc95f-a747-4839-80b9-67aa04903524",
   "metadata": {
    "jp-MarkdownHeadingCollapsed": true
   },
   "source": [
    "#### 🧮 *Relationships* "
   ]
  },
  {
   "cell_type": "markdown",
   "id": "7963f8c1-d332-4ec6-a13d-fdc74e6c4dde",
   "metadata": {},
   "source": [
    "The following key principles and relationships were created in the Power BI model to support star/snowflake schema analysis. These connections enable slicing and filtering between related tables across time, geography, customer behavior and product sales."
   ]
  },
  {
   "cell_type": "markdown",
   "id": "fa95c54c-240b-47a7-9053-ef2c78fbf63c",
   "metadata": {},
   "source": [
    "🔑 **Key relationship principles used:**\n",
    "- **One-to-Many (1:M)** joins: All dimension tables have unique primary keys (e.g. `customer_id`, `product_id`) that link to repeating foreign keys in the fact table.\n",
    "- **Date Handling**: The `dim_date` table is used twice — for both `order_date` and `shipping_date`. A secondary inactive relationship is used for `shipping_date` and activated in DAX using the `USERELATIONSHIP()` function where needed.\n",
    "- **Granularity**: The fact table is at the **order_level**, while all dimensions represent unique attributes (customer, product, date, etc.)\n",
    "- **Shipping and Location**: Linked by `order_id` — one row per order in `dim_shipping` and `dim_order_location`.\n",
    "\n",
    "> These relationships are crucial to enable **filter propagation** **drill-down analysis** and **accurate aggregation** in the report visuals."
   ]
  },
  {
   "cell_type": "markdown",
   "id": "ed88c142-81b0-4ff1-b183-b34089a5ce7d",
   "metadata": {},
   "source": [
    "🔄 **Relationship Summary:**\n",
    "- `fact_orders.customer_id` ➝ `dim_customer.customer_id` — Many-to-One _(M:1)_\n",
    "- `fact_orders.product_id` ➝ `dim_product_id` — Many-to-One _(M:1)_\n",
    "- `dim_product.category_id` ➝ `dim_category.category_id` — Many-to-One _(M:1)_\n",
    "- `fact_orders.order_id` ➝ `dim_shipping.order_id` — Many-to-One _(M:1)_\n",
    "- `fact_orders.order_id` ➝ `dim_order_location.order_id` — Many-to-One _(M:1)_\n",
    "- `fact_orders.order_date` ➝ `dim_date.date` — Many-to-One _(M:1)_ _(Active)_\n",
    "- `fact_orders.shipping_date` ➝ `dim_date.date` _(inactive, used with `USERELATIONSHIP`)_ — Many-to-One _(M:1)_ _(Inactive)_"
   ]
  },
  {
   "cell_type": "markdown",
   "id": "21ce22c5-8651-4475-a787-cc8847d94df9",
   "metadata": {
    "jp-MarkdownHeadingCollapsed": true
   },
   "source": [
    "## 💡 **Executive KPI Metrics**"
   ]
  },
  {
   "cell_type": "markdown",
   "id": "6545328d-b13c-4f5e-8512-2439a151b1bf",
   "metadata": {},
   "source": [
    "> These KPI measures will power the executive overview page of the dashboard, allowing leadership to track business performance at a glance while enabling further exploration by region, customer or time."
   ]
  },
  {
   "cell_type": "markdown",
   "id": "5d43491e-0178-42a6-ad83-3f1e35e7bd0f",
   "metadata": {
    "jp-MarkdownHeadingCollapsed": true
   },
   "source": [
    "### 🧾 Total Orders"
   ]
  },
  {
   "cell_type": "markdown",
   "id": "759d5bc9-29e9-41f2-b16c-7eb082febb53",
   "metadata": {},
   "source": [
    "**🎯 Business Purpose:**  \n",
    "Measures the total number of orders placed. This is the foundational metric for volume-based reporting and revenue tracking."
   ]
  },
  {
   "cell_type": "code",
   "execution_count": null,
   "id": "c0e3a073-9c84-4064-bf09-d28c110f4c68",
   "metadata": {},
   "outputs": [],
   "source": [
    "```DAX\n",
    "\n",
    "Total Orders = DISTINCTCOUNT(DataCoSC_fact_orders[order_id])"
   ]
  },
  {
   "cell_type": "markdown",
   "id": "46dbdd21-0746-4b28-b4c8-6ead2cd925d0",
   "metadata": {},
   "source": [
    "> This KPI can be used to monitor overall growth, order frequency and to benchmark across time or regions."
   ]
  },
  {
   "cell_type": "markdown",
   "id": "c2d5d563-ff64-44c1-9e83-40083f53e1aa",
   "metadata": {
    "jp-MarkdownHeadingCollapsed": true
   },
   "source": [
    "### 📌 Average Orders"
   ]
  },
  {
   "cell_type": "markdown",
   "id": "e5df2e6b-09c6-4ff3-af90-7befca23eaea",
   "metadata": {},
   "source": [
    "🎯 Business Purpose:\n",
    "Calculates the average number of orders and shows performance trends over time."
   ]
  },
  {
   "cell_type": "code",
   "execution_count": null,
   "id": "b9e266e5-deb9-47e4-8696-ad045dd00aac",
   "metadata": {
    "jp-MarkdownHeadingCollapsed": true
   },
   "outputs": [],
   "source": [
    "```DAX\n",
    "\n",
    "Average Orders =\n",
    "DIVIDE(\n",
    "    DISTINCTCOUNT(DataCoSC_fact_orders[order_id]),\n",
    "    DISTINCTCOUNT(DataCoSC_dim_date[year_month])\n",
    ")"
   ]
  },
  {
   "cell_type": "markdown",
   "id": "78f71278-46c7-47e1-983c-47f21f461a7c",
   "metadata": {
    "jp-MarkdownHeadingCollapsed": true
   },
   "source": [
    "### 💰 Total Revenue"
   ]
  },
  {
   "cell_type": "markdown",
   "id": "976bd416-0809-4391-b51b-6cc8156ff402",
   "metadata": {},
   "source": [
    "**🎯 Business Purpose:**  \n",
    "Captures the total sales generated from all orders. Core business performance metric."
   ]
  },
  {
   "cell_type": "code",
   "execution_count": null,
   "id": "7c557153-9f66-4559-a99f-3e0af85b6316",
   "metadata": {},
   "outputs": [],
   "source": [
    "```DAX\n",
    "\n",
    "Total Revenue = SUM(DataCoSC_fact_orders[item_total])"
   ]
  },
  {
   "cell_type": "markdown",
   "id": "a8076461-1d76-49fc-8631-2337928115f5",
   "metadata": {},
   "source": [
    "> Compared across time to monitor growth. Use with profit to evaluate margins."
   ]
  },
  {
   "cell_type": "markdown",
   "id": "f7f55b67-dab1-4d08-a67a-8a5fafe92afb",
   "metadata": {
    "jp-MarkdownHeadingCollapsed": true
   },
   "source": [
    "### 💸 Total Profit"
   ]
  },
  {
   "cell_type": "markdown",
   "id": "eae7ecbb-851f-4d3e-a493-400b6e74d261",
   "metadata": {},
   "source": [
    "**🎯 Business Purpose:**  \n",
    "Shows earnings after subtracting costs per order. Measures **true** business gain."
   ]
  },
  {
   "cell_type": "code",
   "execution_count": null,
   "id": "dc259ba4-462d-4d46-971b-1508f9039017",
   "metadata": {},
   "outputs": [],
   "source": [
    "```DAX\n",
    "\n",
    "Total Profit = SUM(DatacoSC_fact_orders[order_profit_per_order])"
   ]
  },
  {
   "cell_type": "markdown",
   "id": "58ed4fe9-c6f7-421a-873f-4da935553316",
   "metadata": {},
   "source": [
    "> Used to track net business performance and identify product or regional profit gaps."
   ]
  },
  {
   "cell_type": "markdown",
   "id": "8851ca84-5c98-4bcc-ac04-2ce2fe381def",
   "metadata": {
    "jp-MarkdownHeadingCollapsed": true
   },
   "source": [
    "### 💲 Average Profit"
   ]
  },
  {
   "cell_type": "markdown",
   "id": "97f1ca53-2700-4dcb-8558-fd995e601cb2",
   "metadata": {},
   "source": [
    "**🎯 Business Purpose:**  \n",
    "Calculates average profit value."
   ]
  },
  {
   "cell_type": "code",
   "execution_count": null,
   "id": "7a181866-ccb0-4973-8036-370f93876ea8",
   "metadata": {},
   "outputs": [],
   "source": [
    "```DAX\n",
    "\n",
    "Average Profit = SUM(DataCoSC_fact_orders[order_profit_per_order]) / COUNT(DataCoSC_fact_orders[order_id])"
   ]
  },
  {
   "cell_type": "markdown",
   "id": "c04845eb-86cb-478f-82e7-671a6766bbbf",
   "metadata": {},
   "source": [
    "> Lower values indicate that the business is not profitable, maybe by the use of heavy discounting or low margins."
   ]
  },
  {
   "cell_type": "markdown",
   "id": "c170f6aa-0703-4f4b-921f-4d4bd28b71fa",
   "metadata": {
    "jp-MarkdownHeadingCollapsed": true
   },
   "source": [
    "### 💯 Discount Orders"
   ]
  },
  {
   "cell_type": "markdown",
   "id": "98a503da-6eb6-4133-8f4f-b777038089ae",
   "metadata": {
    "jp-MarkdownHeadingCollapsed": true
   },
   "source": [
    "**🎯 Business Purpose:**  \n",
    "Calculates number of orders that are discounted."
   ]
  },
  {
   "cell_type": "code",
   "execution_count": null,
   "id": "5a50dfaf-c897-41ae-891f-e48307c6a519",
   "metadata": {
    "jp-MarkdownHeadingCollapsed": true
   },
   "outputs": [],
   "source": [
    "```DAX\n",
    "\n",
    "Discount Orders =\n",
    "CALCULATE(\n",
    "    [Total Orders],\n",
    "    DataCoSC_fact_orders[item_discount] > 0\n",
    ")"
   ]
  },
  {
   "cell_type": "markdown",
   "id": "360f6315-72a2-4c7f-8711-575c76f3e056",
   "metadata": {
    "jp-MarkdownHeadingCollapsed": true
   },
   "source": [
    "> Track number of orders that are discounted. Used to calculate the rate of orders that are discounted."
   ]
  },
  {
   "cell_type": "markdown",
   "id": "07fbb020-7ab6-436a-853e-14aa805e0f2f",
   "metadata": {
    "jp-MarkdownHeadingCollapsed": true
   },
   "source": [
    "### 🔖 Total Discount"
   ]
  },
  {
   "cell_type": "markdown",
   "id": "8645d188-d9ee-4854-a5b4-d42249f21f48",
   "metadata": {},
   "source": [
    "**🎯 Business Purpose:**  \n",
    "Calculates total disount value through all orders and products."
   ]
  },
  {
   "cell_type": "code",
   "execution_count": null,
   "id": "8d6a12f9-6989-4efb-9984-fe7f2976cc10",
   "metadata": {},
   "outputs": [],
   "source": [
    "```DAX\n",
    "\n",
    "Total Discount = SUM(DatacoSC_fact_orders[item_discount])"
   ]
  },
  {
   "cell_type": "markdown",
   "id": "0922a3c9-a2b9-4434-ac15-29f6bf03169a",
   "metadata": {
    "jp-MarkdownHeadingCollapsed": true
   },
   "source": [
    "> Used to track total discount. Used to check if there are any heavy discounting that leads to loss of profit."
   ]
  },
  {
   "cell_type": "markdown",
   "id": "f40b146f-3515-4e09-accc-b024bce1a76c",
   "metadata": {
    "jp-MarkdownHeadingCollapsed": true
   },
   "source": [
    "### 🏷️ Average Discount"
   ]
  },
  {
   "cell_type": "markdown",
   "id": "6c80bad9-5d64-42c5-8459-e7b4cb01b8d6",
   "metadata": {
    "jp-MarkdownHeadingCollapsed": true
   },
   "source": [
    "**🎯 Business Purpose:**  \n",
    "Calculates average discount value."
   ]
  },
  {
   "cell_type": "code",
   "execution_count": null,
   "id": "a4b82898-dc06-470d-b205-4c05b0b75fbd",
   "metadata": {
    "jp-MarkdownHeadingCollapsed": true
   },
   "outputs": [],
   "source": [
    "```DAX\n",
    "\n",
    "Average Discount = SUM(DataCoSC_fact_orders[item_discount]) / COUNT(DataCoSC_fact_orders[order_id])"
   ]
  },
  {
   "cell_type": "markdown",
   "id": "55454e29-70c4-48a2-bf62-74e6cb89d8f6",
   "metadata": {},
   "source": [
    "> Higher values may indicate discounts are high, which may lead to major loss of profit."
   ]
  },
  {
   "cell_type": "markdown",
   "id": "ac7f95f8-651e-4bdc-9ca5-513b32b7681d",
   "metadata": {
    "jp-MarkdownHeadingCollapsed": true
   },
   "source": [
    "### 🎟️ Discount Orders Rate"
   ]
  },
  {
   "cell_type": "markdown",
   "id": "33ec96c5-0469-4bb9-adc1-5d275c014114",
   "metadata": {},
   "source": [
    "**🎯 Business Purpose:**  \n",
    "Calculates rate of orders that are discounted."
   ]
  },
  {
   "cell_type": "code",
   "execution_count": null,
   "id": "9d7cb8e0-2689-4184-bdcb-0c923866f7dd",
   "metadata": {},
   "outputs": [],
   "source": [
    "```DAX\n",
    "\n",
    "Discount Orders Rate = ([Discount Orders] / [Total Orders]) * 100"
   ]
  },
  {
   "cell_type": "markdown",
   "id": "56ba4a3b-48b6-4038-958b-06ced9194a31",
   "metadata": {},
   "source": [
    "> Aiming for a discount rate of 5%-15% is a good starting point — especially if margins are on the lower side."
   ]
  },
  {
   "cell_type": "markdown",
   "id": "af9caf18-969c-4907-89be-660fcd03ca8d",
   "metadata": {
    "jp-MarkdownHeadingCollapsed": true
   },
   "source": [
    "### 📈 Profit Margin"
   ]
  },
  {
   "cell_type": "markdown",
   "id": "5b0eef44-cf54-4e3f-8723-4961f00cc94e",
   "metadata": {},
   "source": [
    "**🎯 Business Purpose:**  \n",
    "Evaluates profitability efficiency by comparing revenue vs profit."
   ]
  },
  {
   "cell_type": "code",
   "execution_count": null,
   "id": "81fadfaa-e102-4624-8174-905eb29d7ead",
   "metadata": {},
   "outputs": [],
   "source": [
    "```DAX\n",
    "\n",
    "Profit Margin (%) = ([Total Profit] / [Total Revenue]) * 100"
   ]
  },
  {
   "cell_type": "markdown",
   "id": "c387904f-b649-4f9b-b2fe-167f8a8829d5",
   "metadata": {},
   "source": [
    "> Monitors erosion — low margins may result from discounts or fulfillment costs."
   ]
  },
  {
   "cell_type": "markdown",
   "id": "c06b4831-4917-473d-99f4-1aa999811d4d",
   "metadata": {
    "jp-MarkdownHeadingCollapsed": true
   },
   "source": [
    "### 🛒 Average Cart Size"
   ]
  },
  {
   "cell_type": "markdown",
   "id": "1679a2e8-bb85-4d92-9294-65c30ab3b785",
   "metadata": {},
   "source": [
    "**🎯 Business Purpose:**  \n",
    "Measures average quantity of items purchased per order."
   ]
  },
  {
   "cell_type": "code",
   "execution_count": null,
   "id": "d22e40bd-6ec8-49ae-b294-451f1acc3c64",
   "metadata": {},
   "outputs": [],
   "source": [
    "```DAX\n",
    "\n",
    "Average Cart Size =\n",
    "AVERAGEX(\n",
    "    VALUES(DataCoSC_fact_orders[order_id]),\n",
    "    SUM(DataCoSC_fact_orders[item_quantity])\n",
    ")"
   ]
  },
  {
   "cell_type": "markdown",
   "id": "80c1187d-868c-42f5-86b8-57c69508d455",
   "metadata": {},
   "source": [
    "> Getting higer values may indicate strong bundling, volume purchases or good upselling."
   ]
  },
  {
   "cell_type": "markdown",
   "id": "9ead7849-8634-4b2a-a5d2-af163b454969",
   "metadata": {
    "jp-MarkdownHeadingCollapsed": true
   },
   "source": [
    "### 🚚 Average Shipping Delay"
   ]
  },
  {
   "cell_type": "markdown",
   "id": "fb5d468d-b809-478e-a4b5-e1350c0f53e9",
   "metadata": {},
   "source": [
    "**🎯 Business Purpose:**  \n",
    "Compares actual vs. scheduled delivery time. Evaluates operational efficiency."
   ]
  },
  {
   "cell_type": "code",
   "execution_count": null,
   "id": "e5cfb939-bf53-48cf-b6b1-373cf2842736",
   "metadata": {},
   "outputs": [],
   "source": [
    "```DAX\n",
    "\n",
    "Avg Shipping Delay = \n",
    "AVERAGEX(\n",
    "    VALUES(DataCoSC_fact_orders[order_id]),\n",
    "    CALCULATE(\n",
    "        MAXX(\n",
    "            DataCoSC_fact_orders,\n",
    "            DataCoSC_fact_orders[days_for_shipping] - DataCoSC_fact_orders[days_for_shipment_scheduled]\n",
    "        )\n",
    "    )\n",
    ")"
   ]
  },
  {
   "cell_type": "markdown",
   "id": "6e27f107-c3ed-4737-b687-4a792fb4bc47",
   "metadata": {},
   "source": [
    "> Even short delays (avg. >1 day) can impact SLAs and customer satisfaction."
   ]
  },
  {
   "cell_type": "markdown",
   "id": "2c5d7d31-cc55-4bcb-8b4d-24d3cf9339cd",
   "metadata": {
    "jp-MarkdownHeadingCollapsed": true
   },
   "source": [
    "### 📦 Late Delivery Orders"
   ]
  },
  {
   "cell_type": "markdown",
   "id": "fbc2aa77-f9ae-447c-a3cb-0b34dbf57b31",
   "metadata": {},
   "source": [
    "**🎯 Business Purpose:**  \n",
    "Calculates the total of orders delivered late."
   ]
  },
  {
   "cell_type": "code",
   "execution_count": null,
   "id": "2f04837c-09a5-4c3d-8ed4-a2677ea17b21",
   "metadata": {},
   "outputs": [],
   "source": [
    "```DAX\n",
    "\n",
    "Late Delivery Orders = \n",
    "CALCULATE(\n",
    "    [Total Orders],\n",
    "    DataCoSC_fact_orders[late_delivery] = 1\n",
    ")"
   ]
  },
  {
   "cell_type": "markdown",
   "id": "d03bf5d9-d06b-4e57-83de-d7c10f335bc5",
   "metadata": {
    "jp-MarkdownHeadingCollapsed": true
   },
   "source": [
    "### ⏱ Late Delivery Rate"
   ]
  },
  {
   "cell_type": "markdown",
   "id": "e821f8f5-1eef-4012-ae39-12858d88fec7",
   "metadata": {},
   "source": [
    "**🎯 Business Purpose:**  \n",
    "Calculates the percentage of orders delivered late."
   ]
  },
  {
   "cell_type": "code",
   "execution_count": null,
   "id": "0410cd58-936e-427a-abb5-2007e046c6e8",
   "metadata": {},
   "outputs": [],
   "source": [
    "```DAX\n",
    "\n",
    "Late Delivery Rate (%) = ([Late Delivery Orders] / [Total Orders]) * 100"
   ]
  },
  {
   "cell_type": "markdown",
   "id": "633f8eb6-8529-4571-9df1-8c1930389031",
   "metadata": {},
   "source": [
    "> Should be aimed for <10%. High rate will require investigation into fulfillment timing or carries issues."
   ]
  },
  {
   "cell_type": "markdown",
   "id": "54e09701-c041-4c24-afeb-ecad9784ae6b",
   "metadata": {
    "jp-MarkdownHeadingCollapsed": true
   },
   "source": [
    "### 👤 Total Customers"
   ]
  },
  {
   "cell_type": "markdown",
   "id": "9ccec044-6b39-46b8-bad6-d599ee1702ae",
   "metadata": {},
   "source": [
    "**🎯 Business Purpose:**  \n",
    "Show high-level customer performance trends over time."
   ]
  },
  {
   "cell_type": "code",
   "execution_count": null,
   "id": "48d5ad53-5bf8-400a-997f-e6670cf880a6",
   "metadata": {},
   "outputs": [],
   "source": [
    "```DAX\n",
    "\n",
    "Total Customers = DISTINCTCOUNT(DataCoSC_fact_orders[customer_id])"
   ]
  },
  {
   "cell_type": "markdown",
   "id": "3e70d858-7da6-4c88-b0bb-c3cbcb9ebe40",
   "metadata": {
    "jp-MarkdownHeadingCollapsed": true
   },
   "source": [
    "### 💡 Specific KPIs"
   ]
  },
  {
   "cell_type": "markdown",
   "id": "40560a39-7a81-44b7-85f7-7c57736b2d61",
   "metadata": {
    "jp-MarkdownHeadingCollapsed": true
   },
   "source": [
    "#### _New vs. Returning Customers_"
   ]
  },
  {
   "cell_type": "markdown",
   "id": "eabdd86d-1989-4548-a94c-0a72930960f1",
   "metadata": {
    "jp-MarkdownHeadingCollapsed": true
   },
   "source": [
    "**🎯 Business Purpose:**  \n",
    "Enables strategic depth and a clearer view of acquisition vs retention of customers."
   ]
  },
  {
   "cell_type": "markdown",
   "id": "20659573-0415-491e-9df0-f809d82f9819",
   "metadata": {
    "jp-MarkdownHeadingCollapsed": true
   },
   "source": [
    "Customers will be classified as:\n",
    "- **New** → first time this customer made a purchase\n",
    "- **Returning** → any subsequent purchase"
   ]
  },
  {
   "cell_type": "markdown",
   "id": "09f4ca64-d339-4de3-a2e3-49b7bc20aad8",
   "metadata": {
    "jp-MarkdownHeadingCollapsed": true
   },
   "source": [
    "##### **1. Create First Order Date Table (Create Table)**"
   ]
  },
  {
   "cell_type": "code",
   "execution_count": null,
   "id": "043cd81a-94dc-4c7c-a893-84b89ac85907",
   "metadata": {
    "jp-MarkdownHeadingCollapsed": true
   },
   "outputs": [],
   "source": [
    "```DAX\n",
    "\n",
    "customer_first_orders =\n",
    "ADDCOLUMNS(\n",
    "    VALUES(DataCoSC_fact_orders[customer_id]),\n",
    "    \"first_order_date\",\n",
    "    CALCULATE(\n",
    "        MIN(DataCoSC_fact_orders[order_date])\n",
    "    )\n",
    ")"
   ]
  },
  {
   "cell_type": "markdown",
   "id": "d95dc427-fd94-4867-8494-41fbfecef860",
   "metadata": {
    "jp-MarkdownHeadingCollapsed": true
   },
   "source": [
    "##### **2. New vs. Returning Customer Classification (Create Column)**"
   ]
  },
  {
   "cell_type": "code",
   "execution_count": null,
   "id": "de3207be-3c1d-40b2-99b7-e086400f451e",
   "metadata": {
    "jp-MarkdownHeadingCollapsed": true
   },
   "outputs": [],
   "source": [
    "```DAX\n",
    "\n",
    "customer_type =\n",
    "VAR cust_id = customer_first_orders[customer_id]\n",
    "VAR order_count =\n",
    "    CALCULATE(\n",
    "        COUNTROWS(DataCoSC_fact_orders),\n",
    "        DataCoSC_fact_orders[customer_id] = cust_id\n",
    "    )\n",
    "RETURN\n",
    "IF(order_count = 1, \"New\", \"Returning\")"
   ]
  },
  {
   "cell_type": "markdown",
   "id": "3ef41a93-3eeb-4f96-b734-b8f05b128868",
   "metadata": {
    "jp-MarkdownHeadingCollapsed": true
   },
   "source": [
    "##### **3. KPI Creation**"
   ]
  },
  {
   "cell_type": "markdown",
   "id": "1cbcbcfe-e9c0-44c2-afa1-761b784cef74",
   "metadata": {
    "jp-MarkdownHeadingCollapsed": true
   },
   "source": [
    "###### **New Customers**"
   ]
  },
  {
   "cell_type": "code",
   "execution_count": null,
   "id": "e1eddf67-aab2-41c7-9949-56cd0f891f8d",
   "metadata": {},
   "outputs": [],
   "source": [
    "```DAX\n",
    "\n",
    "New Customers = \n",
    "CALCULATE(\n",
    "    DISTINCTCOUNT(DataCoSC_fact_orders[customer_id]),\n",
    "    customer_first_orders[customer_type] = \"Returning\"\n",
    ")"
   ]
  },
  {
   "cell_type": "markdown",
   "id": "c92104d2-8cda-47f8-90f8-39872e485979",
   "metadata": {
    "jp-MarkdownHeadingCollapsed": true
   },
   "source": [
    "###### **Returning Customers**"
   ]
  },
  {
   "cell_type": "code",
   "execution_count": null,
   "id": "bf1812aa-3e83-4fbd-8c52-14766fcf60b7",
   "metadata": {},
   "outputs": [],
   "source": [
    "```DAX\n",
    "\n",
    "New Customers = \n",
    "CALCULATE(\n",
    "    DISTINCTCOUNT(DataCoSC_fact_orders[customer_id]),\n",
    "    customer_first_orders[customer_type] = \"New\"\n",
    ")"
   ]
  },
  {
   "cell_type": "markdown",
   "id": "e20d45ec-f95e-4a33-89dc-db36e91cb0e3",
   "metadata": {
    "jp-MarkdownHeadingCollapsed": true
   },
   "source": [
    "###### **% of Returning Customers**"
   ]
  },
  {
   "cell_type": "code",
   "execution_count": null,
   "id": "17ffb271-d526-45b9-96a0-f43407e1d4e2",
   "metadata": {},
   "outputs": [],
   "source": [
    "```DAX\n",
    "\n",
    "Returning Customer Rate (%) = \n",
    "DIVIDE(\n",
    "    [Returning Customers],\n",
    "    DISTINCTCOUNT(DataCoSC_fact_orders[customer_id])\n",
    ") * 100"
   ]
  },
  {
   "cell_type": "markdown",
   "id": "75b527a3-e951-4f02-adf7-d92b1edf7f47",
   "metadata": {
    "jp-MarkdownHeadingCollapsed": true
   },
   "source": [
    "###### **Revenue by New vs Returning**"
   ]
  },
  {
   "cell_type": "code",
   "execution_count": null,
   "id": "24ca2b31-947b-4ea1-aef6-9e320c11bcab",
   "metadata": {},
   "outputs": [],
   "source": [
    "```DAX\n",
    "\n",
    "Revenue by Customer Type =\n",
    "CALCULATE(\n",
    "    SUM(DataCoSC_fact_orders[item_total])\n",
    ")\n",
    "\n",
    "# User `customer_type` in the legend to break this into new/returning in visuals"
   ]
  },
  {
   "cell_type": "markdown",
   "id": "653c881f-d401-4e8a-a235-77844b142c5e",
   "metadata": {
    "jp-MarkdownHeadingCollapsed": true
   },
   "source": [
    "#### _Top Customers Revenue (%)_"
   ]
  },
  {
   "cell_type": "markdown",
   "id": "21827dbe-00e8-4a2e-86c6-a94f3ad878f5",
   "metadata": {
    "jp-MarkdownHeadingCollapsed": true
   },
   "source": [
    "**🎯 Business Purpose:**  \n",
    "Answering **how dependent is the business on top customers**. It enables us to understand if the revenue is concentrated on high-value customers."
   ]
  },
  {
   "cell_type": "code",
   "execution_count": null,
   "id": "bfd2e9a6-fa07-4955-a1a9-e5b479fd0591",
   "metadata": {
    "jp-MarkdownHeadingCollapsed": true
   },
   "outputs": [],
   "source": [
    "```DAX\n",
    "\n",
    "Top 10 Customers Contribution (%) = \n",
    "VAR TopCustomerRevenue =\n",
    "    CALCULATE(\n",
    "        SUM(DataCoSC_fact_orders[item_total]),\n",
    "        TOPN(10, VALUES(DataCoSC_fact_orders[customer_id]),\n",
    "            CALCULATE(SUM(DataCoSC_fact_orders[item_total])),\n",
    "            DESC\n",
    "        )\n",
    "    )\n",
    "VAR TotalRevenue =\n",
    "    CALCULATE(SUM(DataCoSC_fact_orders[item_total]))\n",
    "\n",
    "RETURN\n",
    "DIVIDE(TopCustomerRevenue, TotalRevenue)"
   ]
  },
  {
   "cell_type": "markdown",
   "id": "f220898e-7e8b-40de-9787-21998ab4dac7",
   "metadata": {
    "jp-MarkdownHeadingCollapsed": true
   },
   "source": [
    "#### _Customer Name_"
   ]
  },
  {
   "cell_type": "markdown",
   "id": "98581be0-a3e8-4f23-ae67-fe30966f2e3b",
   "metadata": {
    "jp-MarkdownHeadingCollapsed": true
   },
   "source": [
    "**🎯 Business Purpose:**  \n",
    "Creates a column for **customer_name (customer_first_name + customer_last_name)** on dim_customer that enables easier identification of customers for segmentation. "
   ]
  },
  {
   "cell_type": "code",
   "execution_count": null,
   "id": "1957766f-d6f5-4513-afec-6e64884528d7",
   "metadata": {
    "jp-MarkdownHeadingCollapsed": true
   },
   "outputs": [],
   "source": [
    "```DAX\n",
    "\n",
    "customer_name = DataCoSC_dim_customer[first_name] & \" \" & DataCoSC_dim_customer[last_name]"
   ]
  },
  {
   "cell_type": "markdown",
   "id": "335e0966-ce0c-4e95-ba03-5535baa79f45",
   "metadata": {
    "jp-MarkdownHeadingCollapsed": true
   },
   "source": [
    "#### _Category by Profit_"
   ]
  },
  {
   "cell_type": "markdown",
   "id": "a1349b57-ca04-4995-af9f-ebb4a68872d4",
   "metadata": {
    "jp-MarkdownHeadingCollapsed": true
   },
   "source": [
    "**🎯 Business Purpose:**  \n",
    "Highlights top category by profit made."
   ]
  },
  {
   "cell_type": "markdown",
   "id": "06e8a902-3ff0-4d07-98f1-b0ce16ecc42a",
   "metadata": {
    "jp-MarkdownHeadingCollapsed": true
   },
   "source": [
    "##### **1. Create Total Profit by Category**"
   ]
  },
  {
   "cell_type": "code",
   "execution_count": null,
   "id": "062d2d66-48ac-44d0-887f-af3118863093",
   "metadata": {
    "jp-MarkdownHeadingCollapsed": true
   },
   "outputs": [],
   "source": [
    "```DAX\n",
    "\n",
    "Total Profit by Category = SUM(DataCoSC_fact_orders[order_profit_per_order])"
   ]
  },
  {
   "cell_type": "markdown",
   "id": "50f2b11b-614a-485c-af61-b2f117446907",
   "metadata": {
    "jp-MarkdownHeadingCollapsed": true
   },
   "source": [
    "##### **2. Create Top Caregory by Profit**"
   ]
  },
  {
   "cell_type": "code",
   "execution_count": null,
   "id": "846c745b-319c-4293-8732-9194711efe26",
   "metadata": {
    "jp-MarkdownHeadingCollapsed": true
   },
   "outputs": [],
   "source": [
    "```DAX\n",
    "\n",
    "Top Category by Profit = \n",
    "CALCULATE(\n",
    "    SELECTEDVALUE(DataCoSC_dim_category[category]),\n",
    "    TOPN(\n",
    "        1,\n",
    "        VALUES(DataCoSC_dim_category[category]),\n",
    "        CALCULATE(SUM(DataCoSC_fact_orders[order_profit_per_order])),\n",
    "        DESC\n",
    "    )\n",
    ")"
   ]
  },
  {
   "cell_type": "markdown",
   "id": "d940e4d3-052d-4e45-b6b0-944980a9af5b",
   "metadata": {
    "jp-MarkdownHeadingCollapsed": true
   },
   "source": [
    "#### _Negative Profit Orders_"
   ]
  },
  {
   "cell_type": "markdown",
   "id": "09780581-08f8-44e6-a734-8a706b73e017",
   "metadata": {},
   "source": [
    "**🎯 Business Purpose:**  \n",
    "Counts number of orders whose profit value is negative."
   ]
  },
  {
   "cell_type": "code",
   "execution_count": null,
   "id": "3e2a4f7e-1f50-4902-8c94-d58ae0b66786",
   "metadata": {},
   "outputs": [],
   "source": [
    "```DAX\n",
    "\n",
    "Negative Profit Orders =\n",
    "COUNTROWS(\n",
    "    FILTER(\n",
    "        ADDCOLUMNS(\n",
    "            VALUES(DataCoSC_fact_orders[order_id]),\n",
    "            \"OrderProfit\",\n",
    "            CALCULATE(SUM(DataCoSC_fact_orders[order_profit_per_order]))\n",
    "        ),\n",
    "        [OrderProfit] < 0\n",
    "    )\n",
    ")"
   ]
  },
  {
   "cell_type": "markdown",
   "id": "771779b0-6da8-44f6-9bae-15acb00f4d8a",
   "metadata": {
    "jp-MarkdownHeadingCollapsed": true
   },
   "source": [
    "## 📄 **Page 1: Executive Overview Dashboard**"
   ]
  },
  {
   "cell_type": "markdown",
   "id": "77ee4d32-aa80-49b2-a3a6-aa9a7ad92b24",
   "metadata": {
    "jp-MarkdownHeadingCollapsed": true
   },
   "source": [
    "### 🎯 Goal"
   ]
  },
  {
   "cell_type": "markdown",
   "id": "f47da856-492d-4555-a7a2-abc9e4ced018",
   "metadata": {},
   "source": [
    "Deliver a **high-level summary** of operational performance using key business metrics. Designed for decision-makers to get a snapshot of business health across orders, revenue, profit, logistics and customer behavior."
   ]
  },
  {
   "cell_type": "markdown",
   "id": "9363a988-9426-46c4-9961-cde33e6cc5e4",
   "metadata": {
    "jp-MarkdownHeadingCollapsed": true
   },
   "source": [
    "### 🎛 Filters"
   ]
  },
  {
   "cell_type": "markdown",
   "id": "18679a22-928d-4a20-b4dd-bfaa8d95a623",
   "metadata": {},
   "source": [
    "Global filters enable dynamic exploration:\n",
    "- 📅 `Date` (from `dim_date`)\n",
    "- 📦 `Category` (from `dim_product`)\n",
    "- 🌎 `Country` (from `dim_order_location`)\n",
    "- 👥 `Segment` (from `dim_customer`)"
   ]
  },
  {
   "cell_type": "markdown",
   "id": "8417d5e6-7a5c-4e73-9a2f-847171a5cb0d",
   "metadata": {
    "jp-MarkdownHeadingCollapsed": true
   },
   "source": [
    "### 📊 KPIs at the Top"
   ]
  },
  {
   "cell_type": "markdown",
   "id": "4b37ff7d-03c8-410b-b253-9ba614078678",
   "metadata": {},
   "source": [
    "- **Financial KPIs like:**\n",
    "  - 🧾 Total Orders\n",
    "  - 💰 Total Revenue\n",
    "  - 💹 Total Profit\n",
    "  - 📊 Profit Margin"
   ]
  },
  {
   "cell_type": "markdown",
   "id": "2066305f-917d-458a-bf60-c7677636ae55",
   "metadata": {},
   "source": [
    "- **Operational KPIs like:**\n",
    "  - 🛒 Average Cart Size\n",
    "  - 📦 Average Shipping Delay\n",
    "  - ⏱ Late Delivery Rate\n",
    "  - 🚚 Late Delivery Orders"
   ]
  },
  {
   "cell_type": "markdown",
   "id": "499015bd-c5b8-4387-9c20-aa9cb379ca3a",
   "metadata": {},
   "source": [
    "Each KPI is tied to key insights from the earlier **SQL & DAX analysis**. Measures are filter-responsive for slicing by time, geography or category."
   ]
  },
  {
   "cell_type": "markdown",
   "id": "f9f776bc-a7fc-46fc-b857-6594173fdb12",
   "metadata": {
    "jp-MarkdownHeadingCollapsed": true
   },
   "source": [
    "### 📈 Visual Elements "
   ]
  },
  {
   "cell_type": "markdown",
   "id": "ec9f8c1e-cac5-4356-a66d-0b22e37c95fc",
   "metadata": {
    "jp-MarkdownHeadingCollapsed": true
   },
   "source": [
    "#### _1. Revenue Over Time_"
   ]
  },
  {
   "cell_type": "markdown",
   "id": "a087ade7-18ec-47e1-86aa-a24de981b06c",
   "metadata": {},
   "source": [
    "- **X-axis:** Month/Year (`dim_date[year_month]`)\n",
    "- **Y-axis:** Total Revenue"
   ]
  },
  {
   "cell_type": "markdown",
   "id": "44b2e406-5e40-4858-a401-7555a5d71570",
   "metadata": {},
   "source": [
    "🔍 Shows revenue trends over time using a monthly breakdown. Used for spotting seasonality or performance dips."
   ]
  },
  {
   "cell_type": "markdown",
   "id": "b44fb6cd-9bdf-41e0-a9dc-d97bcf94173d",
   "metadata": {
    "jp-MarkdownHeadingCollapsed": true
   },
   "source": [
    "#### _2. Orders by Country_"
   ]
  },
  {
   "cell_type": "markdown",
   "id": "3bff4e0e-ff5c-46bb-b297-781b554c9a36",
   "metadata": {},
   "source": [
    "- **Location:** Country (`dim_order_location[order_country]`)\n",
    "- **Gradient:** Uses a conditional color scale to highlight regional total revenue"
   ]
  },
  {
   "cell_type": "markdown",
   "id": "da223e88-99a4-4887-9f14-7576b045bff1",
   "metadata": {},
   "source": [
    "🔍 A choropleth map that highlights geographical distribution of orders, emphasizing dominant regions and countries."
   ]
  },
  {
   "cell_type": "markdown",
   "id": "bd94c93f-486b-4148-9bf4-6e1edf439c53",
   "metadata": {
    "jp-MarkdownHeadingCollapsed": true
   },
   "source": [
    "#### _3. Top Selling Categories_"
   ]
  },
  {
   "cell_type": "markdown",
   "id": "e6434705-462f-464a-b247-3014f7eac986",
   "metadata": {},
   "source": [
    "- **X-axis:** Total Revenue\n",
    "- **Y-avis:** Category (`dim_category[category]`)\n",
    "- **Top N:** Uses Top N filtering to highlight Top 10 selling categories by revenue"
   ]
  },
  {
   "cell_type": "markdown",
   "id": "54081188-2ed2-4678-914e-fffc1c267143",
   "metadata": {},
   "source": [
    "🔍 Highlights which product categories drive the most revenue, supporting inventory and merketing decisions."
   ]
  },
  {
   "cell_type": "markdown",
   "id": "34070921-4f8e-4953-96e8-3d0a7453cd57",
   "metadata": {
    "jp-MarkdownHeadingCollapsed": true
   },
   "source": [
    "### 🧠 Insights to Highlight"
   ]
  },
  {
   "cell_type": "markdown",
   "id": "3b4dcaaa-1edc-4b28-bc43-700369b1039b",
   "metadata": {},
   "source": [
    "- **Order Voluime:** 65752 orders placed\n",
    "- **Revenue:** $33M+ in sales, with a healthy 12% profit margin\n",
    "- **Customer Behavior:** High average cart size of 5.84 items per order\n",
    "- **Logistics:** Despite fast shipping (avg. delay 0.57 days), 54.82% of deliveries are still marked as late — likely due to unrealistic scheduled times"
   ]
  },
  {
   "cell_type": "markdown",
   "id": "a4c4aa0f-6ca0-45ef-8361-1d15cd4d2155",
   "metadata": {
    "jp-MarkdownHeadingCollapsed": true
   },
   "source": [
    "### 📌 Insights Taken"
   ]
  },
  {
   "cell_type": "markdown",
   "id": "be29b28d-5c1f-4a88-bcd3-8437caae0e56",
   "metadata": {},
   "source": [
    "- 📌**Profit margins** are good but discount strategies and shipping costs should be reviewed\n",
    "- 📌**High-value customers** are present and should be targeted with loyalty initiatives\n",
    "- 📌**Cart behavior** suggests volume-based incentives or bundles are effective\n",
    "- 📌 **Delivery timing** reveals potential misalignment between real vs. promised shipping — investigate scheduling logic"
   ]
  },
  {
   "cell_type": "markdown",
   "id": "a29e044b-b5d6-4874-b64d-b3b62eb67d82",
   "metadata": {
    "jp-MarkdownHeadingCollapsed": true
   },
   "source": [
    "## 📄 **Page 2: Time Trends & Performance Over Time**"
   ]
  },
  {
   "cell_type": "markdown",
   "id": "c04c3db4-a0a9-4b83-b296-85003e51f739",
   "metadata": {
    "jp-MarkdownHeadingCollapsed": true
   },
   "source": [
    "### 🎯 Goal"
   ]
  },
  {
   "cell_type": "markdown",
   "id": "ac50103c-881f-429a-a995-2bf769a1d770",
   "metadata": {},
   "source": [
    "Visualize how order volume, sales, profit and delivery behavior evolve over time — useful for identifying seasonality, growth patterns or operational issues."
   ]
  },
  {
   "cell_type": "markdown",
   "id": "2f9e1f39-5021-467a-9e99-a4093c1e7eb5",
   "metadata": {
    "jp-MarkdownHeadingCollapsed": true
   },
   "source": [
    "### 🎛 Filters"
   ]
  },
  {
   "cell_type": "markdown",
   "id": "af91720e-0680-4358-98aa-17e3762081a7",
   "metadata": {},
   "source": [
    "Includes same filters from Page 1, for consistency:\n",
    "- 📅 `Date` (from `dim_date`)\n",
    "- 📦 `Category` (from `dim_product`)\n",
    "- 🌎 `Country` (from `dim_order_location`)\n",
    "- 👥 `Segment` (from `dim_customer`)"
   ]
  },
  {
   "cell_type": "markdown",
   "id": "26b54d64-68f6-401f-8225-9b32ddeeda60",
   "metadata": {
    "jp-MarkdownHeadingCollapsed": true
   },
   "source": [
    "### 📊 KPIs on the Left"
   ]
  },
  {
   "cell_type": "markdown",
   "id": "5a635a02-f7d5-4ef4-b1c4-33c97868ceb8",
   "metadata": {},
   "source": [
    "- **KPIs that support time-series focus, like:**\n",
    "  - 💰 Total Revenue\n",
    "  - 🧾 Average Orders"
   ]
  },
  {
   "cell_type": "markdown",
   "id": "61eb8341-cd11-4153-a047-02f13b899088",
   "metadata": {},
   "source": [
    "These KPIs are tied to key insights from the earlier **SQL & DAX analysis**. They are filter-responsive for slicing by time, geography or category."
   ]
  },
  {
   "cell_type": "markdown",
   "id": "81d2ad3f-9a05-4d33-a404-eb3d66419376",
   "metadata": {
    "jp-MarkdownHeadingCollapsed": true
   },
   "source": [
    "### 📈 Visual Elements"
   ]
  },
  {
   "cell_type": "markdown",
   "id": "2481aff9-11c8-4f67-aaa6-71f70f338eae",
   "metadata": {
    "jp-MarkdownHeadingCollapsed": true
   },
   "source": [
    "#### _1. Orders Trend_"
   ]
  },
  {
   "cell_type": "markdown",
   "id": "20adfedb-dc44-4348-9cdf-89529c4ea015",
   "metadata": {},
   "source": [
    "- **X-axis:** Month/Year (`dim_date[year_month]`)\n",
    "- **Y-axis:** Total Orders"
   ]
  },
  {
   "cell_type": "markdown",
   "id": "3d273c2e-dda8-4662-bb8b-926dc35e5a08",
   "metadata": {},
   "source": [
    "🔍 Shows growth patterns, seasonal peaks (holidays, Q4 spikes)."
   ]
  },
  {
   "cell_type": "markdown",
   "id": "8fb3b777-ea14-40f9-a81b-836a2cf8a000",
   "metadata": {
    "jp-MarkdownHeadingCollapsed": true
   },
   "source": [
    "#### _2. Profit Trend_"
   ]
  },
  {
   "cell_type": "markdown",
   "id": "4ea9f017-7168-4f04-aed5-7b4f3fa31ce4",
   "metadata": {},
   "source": [
    "- **X-axis:** Month/Year (`dim_date[year_month]`)\n",
    "- **Y-axis:** Total Profit"
   ]
  },
  {
   "cell_type": "markdown",
   "id": "837885b1-d343-4d1b-9500-99e0ef52b7d5",
   "metadata": {},
   "source": [
    "🔍 See if profit follows orders or diverges — indicates rising costs."
   ]
  },
  {
   "cell_type": "markdown",
   "id": "66305275-6b17-427f-8317-26a03e7f3566",
   "metadata": {
    "jp-MarkdownHeadingCollapsed": true
   },
   "source": [
    "#### _3. Avg. Shipping Delay Over Time_"
   ]
  },
  {
   "cell_type": "markdown",
   "id": "60b1348f-7178-44cb-a57a-b09c77479ee2",
   "metadata": {},
   "source": [
    "- **X-axis:** Month/Year (`dim_date[year_month]`)\n",
    "- **Y-axis:** Average Shipping Delay\n",
    "- **Secondary Y-axis:** Average Shipping Delay"
   ]
  },
  {
   "cell_type": "markdown",
   "id": "a209c251-f34c-4639-a288-18a4f53ec883",
   "metadata": {},
   "source": [
    "🔍 Is delivery improving over time? Are the spikes during busy months?"
   ]
  },
  {
   "cell_type": "markdown",
   "id": "e4d24355-ac61-44a3-a17c-df5aa829df90",
   "metadata": {
    "jp-MarkdownHeadingCollapsed": true
   },
   "source": [
    "#### _4. YoY Comparison_"
   ]
  },
  {
   "cell_type": "markdown",
   "id": "5e62c927-c691-4222-b82a-35c1cd0434ac",
   "metadata": {},
   "source": [
    "- **X-avis:** Month (from `dim_date[year_month]` with **Date Hierarchy** in **Month**)\n",
    "- **Y-axis:** Total Revenue\n",
    "- **Legend:** Year (from `dim_date[year]`)"
   ]
  },
  {
   "cell_type": "markdown",
   "id": "f31814bb-b91f-4017-99c8-11a3536555c5",
   "metadata": {},
   "source": [
    "🔍 Helps benchmarking monthly performance YoY."
   ]
  },
  {
   "cell_type": "markdown",
   "id": "4ccc31dc-e9dc-45c1-8d0e-af2e61320938",
   "metadata": {
    "jp-MarkdownHeadingCollapsed": true
   },
   "source": [
    "### 🧠 Insights to Highlight"
   ]
  },
  {
   "cell_type": "markdown",
   "id": "adb9a50b-5bed-4035-9da5-5d7ae77d456b",
   "metadata": {},
   "source": [
    "- Do orders follow a consistent **monthly volume**? Are there peak/dip months?\n",
    "- Is **profit growing** at the same pace as **revenue** or **order volume**?\n",
    "- How does **average shipping delay** fluctuate across time?\n",
    "- Any **anomalies** in Year-over-Year patterns (e.g. sudden drop in Q4 2017 and 2018)?"
   ]
  },
  {
   "cell_type": "markdown",
   "id": "456bdb89-0e84-4d75-921a-cde7043437be",
   "metadata": {
    "jp-MarkdownHeadingCollapsed": true
   },
   "source": [
    "### 📌 Insights Taken"
   ]
  },
  {
   "cell_type": "markdown",
   "id": "0d5ef469-d7d3-4636-8899-97291c395354",
   "metadata": {},
   "source": [
    "- **Shipping delays** show a **slight upward trend** in early 2015, early 2016, mid 2016 and late 2017. Possibly due to operational constraints or rising demand on Q4 2017 — should be further investigated.\n",
    "- **YoY performance** is consistent until late 2017 when a **noticeable revenue drop** occurs — needs to be investigated.\n",
    "- **Order volume** remained stable for most of the period, with a **sharp rise in late 2017**, suggesting a surge of campaign.\n",
    "- Despite higher orders, **profit dropped exponentially in late 2017**, hinting at either **costlier fulfillment** or **heavier discounts**."
   ]
  },
  {
   "cell_type": "markdown",
   "id": "604ce154-b9b3-4f7b-ba3a-26191d5efa0a",
   "metadata": {
    "jp-MarkdownHeadingCollapsed": true
   },
   "source": [
    "## 📄 Page 3: Customer & Product Intelligence"
   ]
  },
  {
   "cell_type": "markdown",
   "id": "f198aa6f-6224-4cfd-9c9f-b67a68f3c8cb",
   "metadata": {
    "jp-MarkdownHeadingCollapsed": true
   },
   "source": [
    "### 🎯 Goal"
   ]
  },
  {
   "cell_type": "markdown",
   "id": "cefcf5da-7d2b-44dc-a834-594f50143158",
   "metadata": {},
   "source": [
    "Used to uncover who drives the business — segmenting **customer behaviors** and identifying **top-performing products/categories**."
   ]
  },
  {
   "cell_type": "markdown",
   "id": "6887ddf9-7be0-46fd-a040-cf10fdb25c3d",
   "metadata": {
    "jp-MarkdownHeadingCollapsed": true
   },
   "source": [
    "### 🎛 Filters"
   ]
  },
  {
   "cell_type": "markdown",
   "id": "3feab19b-c87a-4947-addf-215a1c4986b6",
   "metadata": {},
   "source": [
    "Includes same filters as Page 1, giving further consistency:  \n",
    "- 📅 `Date` (from `dim_date`)\n",
    "- 📦 `Category` (from `dim_product`)\n",
    "- 🌎 `Country` (from `dim_order_location`)\n",
    "- 👥 `Segment` (from `dim_customer`)"
   ]
  },
  {
   "cell_type": "markdown",
   "id": "4dbf08ad-56a4-467a-bde5-a3af78fecf16",
   "metadata": {
    "jp-MarkdownHeadingCollapsed": true
   },
   "source": [
    "### 📊 KPIs on the Left"
   ]
  },
  {
   "cell_type": "markdown",
   "id": "6fea1032-2696-4eb3-8bab-1742a0cafa0a",
   "metadata": {},
   "source": [
    "- **Financial KPIs like:**\n",
    "    - 🧾 Total Customers\n",
    "    - 💹 Top Customers Revenue %"
   ]
  },
  {
   "cell_type": "markdown",
   "id": "b5052b5a-be58-41e2-aab4-61bebab8e46a",
   "metadata": {},
   "source": [
    "- **Customer & Order KPIs like:**\n",
    "    - 👤 New vs Returning Customers\n",
    "    - 📊 Top Categories by Revenue"
   ]
  },
  {
   "cell_type": "markdown",
   "id": "a742aab4-e0ea-4879-bee5-270bcb0c37c0",
   "metadata": {
    "jp-MarkdownHeadingCollapsed": true
   },
   "source": [
    "As with previous pages, these KPIs are also tied to key insights from previously **SQL & DAX analysis** and are filter-reponsive. Can be filtered either by time, geography or category."
   ]
  },
  {
   "cell_type": "markdown",
   "id": "3ac0eb30-e6a8-4702-91be-4b3ddc6fadc4",
   "metadata": {
    "jp-MarkdownHeadingCollapsed": true
   },
   "source": [
    "### 📈 Visual Elements"
   ]
  },
  {
   "cell_type": "markdown",
   "id": "46629c22-12a0-4bdf-9a49-6f882f57950a",
   "metadata": {
    "jp-MarkdownHeadingCollapsed": true
   },
   "source": [
    "#### _1. Top Customers_"
   ]
  },
  {
   "cell_type": "markdown",
   "id": "36687958-4edf-4aba-907a-d1dd4e9bd325",
   "metadata": {},
   "source": [
    "- **X-axis:** Total Revenue\n",
    "- **Y-axis:** Customer ID (`dim_customer[customer_id]`)\n",
    "- **Tooltip:** Customer Name (`dim_customer[customer_name]`)\n",
    "- **Top N:** Uses Top N filtering to highlight Top 10 customers by revenue"
   ]
  },
  {
   "cell_type": "markdown",
   "id": "0f9fd01f-b717-4bc5-8af9-3ee201346f60",
   "metadata": {},
   "source": [
    "🔍 Highlights top 10 customers that drive the most revenue and sorts them."
   ]
  },
  {
   "cell_type": "markdown",
   "id": "4f70cc4a-ead9-4dd4-a540-9b6d048d9be5",
   "metadata": {
    "jp-MarkdownHeadingCollapsed": true
   },
   "source": [
    "#### _2. Top Products_"
   ]
  },
  {
   "cell_type": "markdown",
   "id": "654f5949-c96c-4ec3-bdcc-4c88c3af5564",
   "metadata": {},
   "source": [
    "- **X-axis:** Total Revenue\n",
    "- **Y-axis:** Product Name (`dim_product[product_name]`)\n",
    "- **Top N:** Uses Top N filtering to highlight Top 10 products by revenue"
   ]
  },
  {
   "cell_type": "markdown",
   "id": "1bc4b030-1aaf-4e92-88d8-109def446460",
   "metadata": {},
   "source": [
    "🔍 Highlights the top 10 products sold sorted by revenue."
   ]
  },
  {
   "cell_type": "markdown",
   "id": "d1817da0-4118-483d-85cf-dec7576c7fe9",
   "metadata": {
    "jp-MarkdownHeadingCollapsed": true
   },
   "source": [
    "#### _3. Average Cart Size by Segment_"
   ]
  },
  {
   "cell_type": "markdown",
   "id": "da881494-794a-46d7-961f-e8d3c8e89bfc",
   "metadata": {},
   "source": [
    "- **X-axis:** Customer Segment (`dim_customer[segment]`)\n",
    "- **Y-axis:** Average Cart Size"
   ]
  },
  {
   "cell_type": "markdown",
   "id": "d3fd77d7-6778-4883-8b0b-b0c090519eaf",
   "metadata": {},
   "source": [
    "🔍 Offers segmentation of average cart size by customer segment sorted."
   ]
  },
  {
   "cell_type": "markdown",
   "id": "cd0b6033-6d9a-4500-adbd-37fa6b7b2135",
   "metadata": {
    "jp-MarkdownHeadingCollapsed": true
   },
   "source": [
    "#### _4. Category vs Profit Margin_"
   ]
  },
  {
   "cell_type": "markdown",
   "id": "a4f476e4-c376-43aa-ab84-b3b5152018cc",
   "metadata": {},
   "source": [
    "- **X-axis:** Category ID (`dim_category[category_id]`)\n",
    "- **Y-axis:** Profit Margin (%)\n",
    "- **Legend:** Category Name (`dim_category[category_name]`)"
   ]
  },
  {
   "cell_type": "markdown",
   "id": "339b6824-ecb3-4417-a2ad-d94daed58126",
   "metadata": {},
   "source": [
    "🔍 Presents the relationship between category and profit margin."
   ]
  },
  {
   "cell_type": "markdown",
   "id": "05a04bd5-b345-4ce2-98d4-41d6c16e1e09",
   "metadata": {
    "jp-MarkdownHeadingCollapsed": true
   },
   "source": [
    "#### _5. New vs Returning Customers_"
   ]
  },
  {
   "cell_type": "markdown",
   "id": "88aa6255-26e1-4ef7-a519-005c5f86aea4",
   "metadata": {},
   "source": [
    "- **X-axis:** Month/Year (`dim_date[year_month]`)\n",
    "- **Y-axis:** Total Customers\n",
    "- **Legend:** Customer Type (`customer_first_orders[customer_type]`)"
   ]
  },
  {
   "cell_type": "markdown",
   "id": "5f0417a6-40ea-42b8-b3e5-07561ed57f9d",
   "metadata": {},
   "source": [
    "🔍 Displays count of new customers vs returning customers over time."
   ]
  },
  {
   "cell_type": "markdown",
   "id": "3421da9a-76d7-43f9-ac35-d7f7993fd81c",
   "metadata": {
    "jp-MarkdownHeadingCollapsed": true
   },
   "source": [
    "### 🧠 Insights to Highlight"
   ]
  },
  {
   "cell_type": "markdown",
   "id": "54e4a812-ce7c-429d-b37d-3cfc92ab7666",
   "metadata": {},
   "source": [
    "- Do a **few customers** contribute a **disproportional amount** of revenue?\n",
    "- Do **certain products** drive a **disproportional amount** of revenue? Does **more revenue** equals **more orders**?\n",
    "- How do **customer segment** differ in behavior?\n",
    "- Are **certain categories profitable** but undersold?\n",
    "- Business is driven by **loyal customers** or do **new customers** offer the business **more orders & revenue**?"
   ]
  },
  {
   "cell_type": "markdown",
   "id": "46502ce3-2465-4be1-af75-ea4f4b85a51b",
   "metadata": {
    "jp-MarkdownHeadingCollapsed": true
   },
   "source": [
    "### 📌 Insights Taken"
   ]
  },
  {
   "cell_type": "markdown",
   "id": "f4b6b38e-ab4b-4b74-bfcd-e4bc47ae0970",
   "metadata": {},
   "source": [
    "- **Top 10 customers** aren't the main source of revenue, contributing only for 0,25% of revenue. There is no need for further **loyalty incentives** and **retention focus**, however, they can be used for means of **improving customer satisfaction**.\n",
    "- Certain **products anmd categories** drive significantly higher revenue — showing potential for **cross-sell**, **bundling** or **premium positoning**.\n",
    "- **Average car size** are roughly the same throughout all segments. **Consumer** segment is keeping up with both **Corporate** and **Home Office** segments, indicating successful **B2C bundling strategies**.\n",
    "- **Profit margins vary across categories**, highlighting areas where **sales volume don't translate into profitability** — it calls for pricing or operational review in some categories (e.g. `Strength Training`, `As Seen on TV!`, `Men's Clothing`).\n",
    "- **New customer count increases** in later months, while returnin customers tend to remain stable throughout the whole year, slightly declining in the last quarter — this suggests **market saturation** or need for **acquisition strategies**."
   ]
  },
  {
   "cell_type": "markdown",
   "id": "ed292ce2-b409-4e1c-b113-5635130e5afb",
   "metadata": {
    "jp-MarkdownHeadingCollapsed": true
   },
   "source": [
    "## 📄 Page 4: Late Delivery Trends"
   ]
  },
  {
   "cell_type": "markdown",
   "id": "dd92e8c2-656c-4ae9-8536-0cd23f07fefa",
   "metadata": {
    "jp-MarkdownHeadingCollapsed": true
   },
   "source": [
    "### 🎯 Goal"
   ]
  },
  {
   "cell_type": "markdown",
   "id": "10f33fb9-9c59-431c-882d-a3115ca2ef73",
   "metadata": {
    "jp-MarkdownHeadingCollapsed": true
   },
   "source": [
    "This page is used for insights into **late deliveries** patterns over time. Gives visibility on **logistics performance** and how they can be affected by **country and market**, **shipping mode** or even **categories**."
   ]
  },
  {
   "cell_type": "markdown",
   "id": "498819d3-6c43-4940-9660-9110426f2731",
   "metadata": {
    "jp-MarkdownHeadingCollapsed": true
   },
   "source": [
    "### 🎛 Filters"
   ]
  },
  {
   "cell_type": "markdown",
   "id": "7fd21d77-5f0d-4cdc-a6b8-831bc225ed29",
   "metadata": {},
   "source": [
    "Once again the filters used are the same as previous pages, keeping consistency and tying pages together:  \n",
    "- 📅 `Date` (from `dim_date`)\n",
    "- 📦 `Category` (from `dim_product`)\n",
    "- 🌎 `Country` (from `dim_order_location`)\n",
    "- 👥 `Segment` (from `dim_customer`)"
   ]
  },
  {
   "cell_type": "markdown",
   "id": "94075792-23c9-4ba0-9646-a6b8d0c0bc60",
   "metadata": {
    "jp-MarkdownHeadingCollapsed": true
   },
   "source": [
    "### 📊 KPIs on the Left"
   ]
  },
  {
   "cell_type": "markdown",
   "id": "d7a00a20-232c-4584-b95f-e9b31546338e",
   "metadata": {
    "jp-MarkdownHeadingCollapsed": true
   },
   "source": [
    "- **Financial KPIs like:**\n",
    "    - 🧾 Total Orders"
   ]
  },
  {
   "cell_type": "markdown",
   "id": "6b5b94a7-ff59-4ef4-8f68-330994059832",
   "metadata": {
    "jp-MarkdownHeadingCollapsed": true
   },
   "source": [
    "- **Order KPIs like:**\n",
    "    - ⏱ Late Delivery Rate\n",
    "    - 🚚 Late Delivery Orders\n",
    "    - 📦 Average Shipping Delay"
   ]
  },
  {
   "cell_type": "markdown",
   "id": "72b49c58-b9bd-443a-a50d-893e89970246",
   "metadata": {
    "jp-MarkdownHeadingCollapsed": true
   },
   "source": [
    "These KPIs are directly tied to **SQL & DAX analysis** that was made previously and give insights on late deliveries. They are filter-ready by time, geography, category or customer segment."
   ]
  },
  {
   "cell_type": "markdown",
   "id": "8c69a48f-018f-46bf-9373-d0e7dcb72424",
   "metadata": {
    "jp-MarkdownHeadingCollapsed": true
   },
   "source": [
    "### 📈 Visual Elements"
   ]
  },
  {
   "cell_type": "markdown",
   "id": "bdbd3aeb-35e8-4ce5-92b1-524de689bc49",
   "metadata": {
    "jp-MarkdownHeadingCollapsed": true
   },
   "source": [
    "#### _1. Late Delivery Rate Over Time_"
   ]
  },
  {
   "cell_type": "markdown",
   "id": "7c33a18d-75ce-4a40-a675-0c962f94f12c",
   "metadata": {
    "jp-MarkdownHeadingCollapsed": true
   },
   "source": [
    "- **X-axis:** Month/Year (`dim_date[year_month]`)\n",
    "- **Y-axis:** Late Delivery Rate (%)"
   ]
  },
  {
   "cell_type": "markdown",
   "id": "e2ed475e-2265-4b0e-8c35-43a2a8e5a028",
   "metadata": {
    "jp-MarkdownHeadingCollapsed": true
   },
   "source": [
    "🔍 Used to observe seasonality or operational slowdowns (e.g. holidays, supply chain bottlenecks)."
   ]
  },
  {
   "cell_type": "markdown",
   "id": "8a448017-f75c-4323-98b8-ff914a540038",
   "metadata": {
    "jp-MarkdownHeadingCollapsed": true
   },
   "source": [
    "#### _2. Late Deliveries by Country_"
   ]
  },
  {
   "cell_type": "markdown",
   "id": "f1d7c8db-db5f-4d97-96be-0e40381a6c39",
   "metadata": {
    "jp-MarkdownHeadingCollapsed": true
   },
   "source": [
    "- **Location:** Country (`dim_order_location[order_country]`)\n",
    "- **Gradient:** Uses a conditional color scale to highlight regional late deliveries rate"
   ]
  },
  {
   "cell_type": "markdown",
   "id": "2be162f9-b0a6-4abb-84c0-717d63ceb694",
   "metadata": {
    "jp-MarkdownHeadingCollapsed": true
   },
   "source": [
    "🔍 This maps spots worldwide region bottlenecks or distribution issues."
   ]
  },
  {
   "cell_type": "markdown",
   "id": "d71d250f-aedc-4010-8ce3-69062e9f056b",
   "metadata": {
    "jp-MarkdownHeadingCollapsed": true
   },
   "source": [
    "#### _3. Late Delivery Rate by Shipping Mode_"
   ]
  },
  {
   "cell_type": "markdown",
   "id": "06c3d3ca-6f63-4021-b23f-cda302c8d17a",
   "metadata": {
    "jp-MarkdownHeadingCollapsed": true
   },
   "source": [
    "- **X-axis:** Shipping Mode (`dim_shipping[shipping_mode]`)\n",
    "- **Y-axis:** Late Delivery Rate (%)"
   ]
  },
  {
   "cell_type": "markdown",
   "id": "8c125765-f72f-4956-a841-2036ea643a0f",
   "metadata": {
    "jp-MarkdownHeadingCollapsed": true
   },
   "source": [
    "🔍 The purpose of this chart is to identify the least reliable shipping methods and which ones need more logistics attention."
   ]
  },
  {
   "cell_type": "markdown",
   "id": "ec6d62fb-66a9-4634-b1e2-e703cb4d86f7",
   "metadata": {
    "jp-MarkdownHeadingCollapsed": true
   },
   "source": [
    "#### _4. Late Delivery Rate by Market_"
   ]
  },
  {
   "cell_type": "markdown",
   "id": "d340e6ea-14fb-47c9-97fb-b75d60e5f032",
   "metadata": {
    "jp-MarkdownHeadingCollapsed": true
   },
   "source": [
    "- **X-axis:** Market (`dim_order_location[market]`)\n",
    "- **Y-axis:** Late Delivery Rate (%)"
   ]
  },
  {
   "cell_type": "markdown",
   "id": "57109f6a-b5cc-4a75-a045-20daf1b77eb7",
   "metadata": {
    "jp-MarkdownHeadingCollapsed": true
   },
   "source": [
    "🔍 The chart is used to highlight logistics reliability by market."
   ]
  },
  {
   "cell_type": "markdown",
   "id": "88e3cf22-1f8a-48a3-92d6-492cdfe18c0f",
   "metadata": {
    "jp-MarkdownHeadingCollapsed": true
   },
   "source": [
    "#### _5. Worst Delivery Rate Categories_"
   ]
  },
  {
   "cell_type": "markdown",
   "id": "5658590c-f432-4cff-8062-0e27d76267b7",
   "metadata": {
    "jp-MarkdownHeadingCollapsed": true
   },
   "source": [
    "- **Category:** Category Name (`dim_category[category]`)\n",
    "- **Values:** Late Delivery Rate (%)\n",
    "- **Top N:** Uses Top N filtering to highlight the 10 worst categories by late delivery rate"
   ]
  },
  {
   "cell_type": "markdown",
   "id": "37f15f69-d577-4ae1-87e4-9413e2e7cfb1",
   "metadata": {
    "jp-MarkdownHeadingCollapsed": true
   },
   "source": [
    "🔍 This treemap highlights the worst performing categories by late delivery rate. Informs of what category might need best logistics strategies to lower late delivery rates."
   ]
  },
  {
   "cell_type": "markdown",
   "id": "4f7852bd-4513-4b5a-b902-6eb672f0606d",
   "metadata": {
    "jp-MarkdownHeadingCollapsed": true
   },
   "source": [
    "### 🧠 Insights to Highlight"
   ]
  },
  {
   "cell_type": "markdown",
   "id": "4a1c7e24-086c-4153-a9f1-cdb459ddbacf",
   "metadata": {
    "jp-MarkdownHeadingCollapsed": true
   },
   "source": [
    "- Are delays **increasing over time**? Or do they show **seasonal patterns**?\n",
    "- Do **some shipping modes underperform consistently**? Which ones are **most reliable**?\n",
    "- Are late deliveries concentrated in **specifict countries or markets**?\n",
    "- Do **certain product categories** tend to **experience more delivery issues**?\n",
    "- Can we improve **customer satisfaction** by **revisiting fulfillment schedules** or **shipping promises**?"
   ]
  },
  {
   "cell_type": "markdown",
   "id": "d4927fed-efd5-4114-a0b1-015ce589dd2e",
   "metadata": {
    "jp-MarkdownHeadingCollapsed": true
   },
   "source": [
    "### 📌 Insights Taken"
   ]
  },
  {
   "cell_type": "markdown",
   "id": "89f69f3b-a153-45d2-84bd-ae2c1090bee9",
   "metadata": {},
   "source": [
    "- **Over 54% of orders** are flagged as late — indicating either **logistical inefficiency** or **inaccurate promised delivery dates**.\n",
    "- **First Class shipping** shows the **worst performance**, whereas **Same Day** and **Standard Class** are comparatively more reliable.\n",
    "- **Markets like Pacific Asia and Europe** have slightly higher delivery rates — however, the increased values are redundant, hinting for **supply chain issues** and **operational issues worldwide**.\n",
    "- Certain **product categories** (e.g. Golf Bags, Lacrosse) have high late delivery rates — which may relate to **supply chain complexity** or **supplier locations**.\n",
    "- Despite high late delivery rate, the **average shipping delay (in days)** is relatively low (~0.5 days), implying the issue might lie in **overly strict delivery promises**."
   ]
  },
  {
   "cell_type": "markdown",
   "id": "0e8ae66e-3fe0-4cb8-8a36-844102cb1d94",
   "metadata": {
    "jp-MarkdownHeadingCollapsed": true
   },
   "source": [
    "## 📄 Page 5: Profitability & Efficiency Analysis"
   ]
  },
  {
   "cell_type": "markdown",
   "id": "ad7f6dfc-b4b0-452b-9100-c25ca3175801",
   "metadata": {
    "jp-MarkdownHeadingCollapsed": true
   },
   "source": [
    "### 🎯 Goal"
   ]
  },
  {
   "cell_type": "markdown",
   "id": "05d27cdb-e8be-4b38-9b33-80c8243c00b4",
   "metadata": {},
   "source": [
    "Uncover what drives profitability and assess how discounts, shipping delays and customer behavior affect overall efficiency. Helps surface high-revenue areas that may not be profitable and highlight operational inefficiencies."
   ]
  },
  {
   "cell_type": "markdown",
   "id": "51d6ab6b-dca4-4e33-8f45-3744b1f92e17",
   "metadata": {
    "jp-MarkdownHeadingCollapsed": true
   },
   "source": [
    "### 🎛 Filters"
   ]
  },
  {
   "cell_type": "markdown",
   "id": "45cc0052-656f-4e63-ab11-4050cbd10716",
   "metadata": {},
   "source": [
    "Same filters for consistency:\n",
    "- 📅 `Date` (from `dim_date`)\n",
    "- 📦 `Category` (from `dim_product`)\n",
    "- 🌎 `Country` (from `dim_order_location`)\n",
    "- 👥 `Segment` (from `dim_customer`)"
   ]
  },
  {
   "cell_type": "markdown",
   "id": "509677b8-085a-417b-a9b2-a7fd7cc1fcd5",
   "metadata": {
    "jp-MarkdownHeadingCollapsed": true
   },
   "source": [
    "### 📊 KPIs on the Left"
   ]
  },
  {
   "cell_type": "markdown",
   "id": "e7a42105-207c-4513-8dbd-6a69f628d2bf",
   "metadata": {},
   "source": [
    "- **Financial KPIs like:**\n",
    "    - 📊 Profit Margin %\n",
    "    - 💹 Top Category by Profit\n",
    "    - 🏷️ Total Discounts\n",
    "    - 📉 Negative Profit Orders"
   ]
  },
  {
   "cell_type": "markdown",
   "id": "e6948399-39ab-466e-8de0-4cf18441fa15",
   "metadata": {},
   "source": [
    "- **Operational KPIs like:**\n",
    "    - 💸 Average Discount\n",
    "    - 💰 Average Profit"
   ]
  },
  {
   "cell_type": "markdown",
   "id": "b9b1171d-8077-4cb1-92a2-cb637f7d782b",
   "metadata": {},
   "source": [
    "- **Conditional KPIs like:**\n",
    "    - ⬆️ Profit Gain\n",
    "      - `Total Profit` filtered on `fact_orders[revenue_per_order] > 0` \n",
    "    - ⬇️ Profit Loss\n",
    "      - `Total Profit` filtered on `fact_orders[revenue_per_order] < 0`"
   ]
  },
  {
   "cell_type": "markdown",
   "id": "398efea7-b674-40a6-bc20-6f021d8ec450",
   "metadata": {},
   "source": [
    "KPIs are taken from the usage of **SQL & DAX analysis** like before and can be filtered either by time, geography, category or segment."
   ]
  },
  {
   "cell_type": "markdown",
   "id": "ff4206c2-0dc8-411d-8f73-9d2eee1ad41a",
   "metadata": {
    "jp-MarkdownHeadingCollapsed": true
   },
   "source": [
    "### 📈 Visual Elements"
   ]
  },
  {
   "cell_type": "markdown",
   "id": "4608d853-d485-4996-b641-26399dda15a7",
   "metadata": {
    "jp-MarkdownHeadingCollapsed": true
   },
   "source": [
    "#### _1. Average Discount by Product_"
   ]
  },
  {
   "cell_type": "markdown",
   "id": "c514fc45-16a7-4ed1-aec5-1fe870b369ab",
   "metadata": {},
   "source": [
    "- **X-axis:** Product Name (`dim_product[product_name]`)\n",
    "- **Y-axis:** Average Discount\n",
    "- **Top N:** Uses Top N filtering to highlight Top 10 products with highest average discount"
   ]
  },
  {
   "cell_type": "markdown",
   "id": "bfd98030-59f0-4471-9e05-0369bf5dee35",
   "metadata": {},
   "source": [
    "🔍 Flags top products being heavily discounted — could be impacting profitability."
   ]
  },
  {
   "cell_type": "markdown",
   "id": "7c8c5467-1510-418c-bedc-49e440a5b30e",
   "metadata": {
    "jp-MarkdownHeadingCollapsed": true
   },
   "source": [
    "#### _2. Revenue vs Profit Margin_"
   ]
  },
  {
   "cell_type": "markdown",
   "id": "874463dd-04b5-46b2-ace6-388e75b34bd5",
   "metadata": {},
   "source": [
    "- **X-axis:** Total Revenue\n",
    "- **Y-axis:** Profit Margin (%)\n",
    "- **Legend:** Category Name (`dim_category[category]`)"
   ]
  },
  {
   "cell_type": "markdown",
   "id": "8368ef7f-e2b4-438e-aad2-ad664a5339a1",
   "metadata": {},
   "source": [
    "🔍 High-revenue and low-margin categories stand out — makes it easier to spot top performing or underperforming categories, either by revenue or by profit margin."
   ]
  },
  {
   "cell_type": "markdown",
   "id": "256f57d4-4fbd-4dac-91e7-0dead9f73e55",
   "metadata": {
    "jp-MarkdownHeadingCollapsed": true
   },
   "source": [
    "#### _3. Profit by Country_"
   ]
  },
  {
   "cell_type": "markdown",
   "id": "cf701f85-b8db-4235-9ca6-193c32d7aea1",
   "metadata": {},
   "source": [
    "- **Location:** Country (`dim_order_location[order_country]`)\n",
    "- **Gradient:** Uses a conditional color scale to highlight regional profit"
   ]
  },
  {
   "cell_type": "markdown",
   "id": "94a93b52-c94a-4ba5-b8e1-dbc461a52a9c",
   "metadata": {},
   "source": [
    "🔍 Used to spot regional efficiency and profitability evaluation."
   ]
  },
  {
   "cell_type": "markdown",
   "id": "2300045e-e092-4c04-80e0-b063743910aa",
   "metadata": {
    "jp-MarkdownHeadingCollapsed": true
   },
   "source": [
    "#### _4. Negative Profit Orders_"
   ]
  },
  {
   "cell_type": "markdown",
   "id": "f07d7d2e-7cea-4577-b2b6-54a21da2d593",
   "metadata": {},
   "source": [
    "- **Columns:**\n",
    "    - Order ID (`fact_orders[order_id]`)\n",
    "    - Quantity (`fact_orders[item_quantity]`)\n",
    "    - Profit (`Total Profit`)\n",
    "    - Discount (`Total Discount`)\n",
    "    - Revenue (`Total Revenue`)\n",
    "    - Category (`dim_category[category]`)\n",
    "- **Filter:** Uses filtering to highlight orders with negative profit\n",
    "- **Sort:** Sorts orders from lowest to highest profit"
   ]
  },
  {
   "cell_type": "markdown",
   "id": "a1463074-01c3-43b4-8669-0db2b158387f",
   "metadata": {},
   "source": [
    "🔍 Shows values of loss-making orders"
   ]
  },
  {
   "cell_type": "markdown",
   "id": "39d1a439-f767-4b8b-9985-b788a2d038e9",
   "metadata": {
    "jp-MarkdownHeadingCollapsed": true
   },
   "source": [
    "### 🧠 Insights to Highlight"
   ]
  },
  {
   "cell_type": "markdown",
   "id": "0e503598-db2a-480b-aa7a-cf48c67e8a26",
   "metadata": {},
   "source": [
    "-  Are we **selling high-volume** and **low-margin products**?\n",
    "-  Are **discounts driving volume** or just **killing margins**?\n",
    "-  Do certain regions or categories **have lower efficiency**?\n",
    "-  How **many orders** are we **losing money on**?\n",
    "-  Can we better **balance volume**, **price** and **profit**?"
   ]
  },
  {
   "cell_type": "markdown",
   "id": "2b66bdd1-e471-432c-bb10-a436055531d0",
   "metadata": {
    "jp-MarkdownHeadingCollapsed": true
   },
   "source": [
    "### 📌 Insights Taken"
   ]
  },
  {
   "cell_type": "markdown",
   "id": "8043b525-b201-42ad-a89b-acc00ba2f8d4",
   "metadata": {},
   "source": [
    "- **Loss-generating orders aresubstantial**, with over **14000 orders having negative profit** — a red flag that should be addressed through pricing or discount policies.\n",
    "- The **Fishing category** ranks highest in profit contribution, this suggests strong margin and sales synergy in the category. It can be used to find a better model for the other categories.\n",
    "- **Computers** dominate the loss-making order list, hinting at potential **over-discounting** or even **low markup** in this category.\n",
    "- Certain countries show **high revenue but poor profit**, this indicates that **operational costs**, **fulfillment logistics** or **regional discounting** may be eating at margins.\n",
    "- **Average product discount is above 20**, with some SKUs **reaching 200-250** — these seem healthy at first, but need more investigation as average profit seems too low, being just slightly either than the average discount.\n",
    "- Overall **profit margin remains healthy (~12%)**, but deeper segmentation reveals there are **significant inefficiencies hidden behind aggregate numbers**."
   ]
  },
  {
   "cell_type": "markdown",
   "id": "dde1e510-981a-435c-bdc5-291c18ac1bfe",
   "metadata": {
    "jp-MarkdownHeadingCollapsed": true
   },
   "source": [
    "## 📄 Page 6: Executive Summary & Strategic Insights"
   ]
  },
  {
   "cell_type": "markdown",
   "id": "9a09aa82-ff2e-4a79-adf2-8bda659665b3",
   "metadata": {
    "jp-MarkdownHeadingCollapsed": true
   },
   "source": [
    "### 🎯 Goal"
   ]
  },
  {
   "cell_type": "markdown",
   "id": "03c7f249-70a3-4676-b223-c0abecbc4085",
   "metadata": {},
   "source": [
    "Provides a strategic overview of the most impactful insights uncovered across the analysis — identifying areas of opportunity, concern and actions to take.  \n",
    "Rather than introducing more granular analysis, this page **summarizes**, **prioritizes** and **visualizes impact areas** for decision-makers."
   ]
  },
  {
   "cell_type": "markdown",
   "id": "11910a34-8c65-453d-8075-3b598b7e8c27",
   "metadata": {
    "jp-MarkdownHeadingCollapsed": true
   },
   "source": [
    "### 🎛 Filters"
   ]
  },
  {
   "cell_type": "markdown",
   "id": "b12eb29e-cde0-4cdf-876e-3c3ade45b1c2",
   "metadata": {},
   "source": [
    "Includes basic filtering like previous pages for consistency:\n",
    "- 📅 `Date` (from `dim_date`)\n",
    "- 📦 `Category` (from `dim_product`)\n",
    "- 🌎 `Country` (from `dim_order_location`)\n",
    "- 👥 `Segment` (from `dim_customer`)"
   ]
  },
  {
   "cell_type": "markdown",
   "id": "e0653746-30c7-40e4-b6f9-919f73ee98a9",
   "metadata": {
    "jp-MarkdownHeadingCollapsed": true
   },
   "source": [
    "### 📊 KPIs on the Left"
   ]
  },
  {
   "cell_type": "markdown",
   "id": "cee1f73c-77a5-4a12-a08c-ddb459ffc3ba",
   "metadata": {},
   "source": [
    "- **Strategic KPIs like:**\n",
    "    - 📊 Profit Margin %\n",
    "    - ⏱ Late Delivery %\n",
    "    - 🏷️ Discount Orders %\n",
    "    - 👤 Top Customer Revenue %"
   ]
  },
  {
   "cell_type": "markdown",
   "id": "6dd2b3ad-152d-45ec-a911-3c06891afe7d",
   "metadata": {
    "jp-MarkdownHeadingCollapsed": true
   },
   "source": [
    "### 📈 Visual Elements"
   ]
  },
  {
   "cell_type": "markdown",
   "id": "f93c8212-b87e-41d6-b3cf-01bf930244be",
   "metadata": {
    "jp-MarkdownHeadingCollapsed": true
   },
   "source": [
    "#### _1. Action Radar_"
   ]
  },
  {
   "cell_type": "markdown",
   "id": "fda28f92-7a1c-45a9-9c50-a927547084fe",
   "metadata": {},
   "source": [
    "- **Three-column layout using text boxes:**\n",
    "    - ⚙️ What Needs to Improve\n",
    "    - ✅ What Needs to Grow\n",
    "    - 🚨 What Needs to Be Fixed"
   ]
  },
  {
   "cell_type": "markdown",
   "id": "8d3898a9-b9b3-43c7-962b-73097de37857",
   "metadata": {},
   "source": [
    "🔍 Helps summarize business priorities and guide stakeholder focus"
   ]
  },
  {
   "cell_type": "markdown",
   "id": "3ecf0f7e-528d-4c29-883e-81c0dd667ffb",
   "metadata": {
    "jp-MarkdownHeadingCollapsed": true
   },
   "source": [
    "#### _2. Market Performance_"
   ]
  },
  {
   "cell_type": "markdown",
   "id": "ea81b7cf-7f1e-4663-bdd9-612c74190457",
   "metadata": {},
   "source": [
    "- **Rows:**\n",
    "    - Market (`dim_order_location[market]`)\n",
    "- **Values:**\n",
    "    - Profit Margin (%)\n",
    "    - Late Delivery Rate (%)"
   ]
  },
  {
   "cell_type": "markdown",
   "id": "1a3bc7fb-5e58-4ad0-a6ee-33823fb13eb5",
   "metadata": {},
   "source": [
    "🔍 Heatmap-style table comparing performance across markets to identify regional outliers."
   ]
  },
  {
   "cell_type": "markdown",
   "id": "5d58b2ee-7c97-44ca-904d-cc3adb612122",
   "metadata": {
    "jp-MarkdownHeadingCollapsed": true
   },
   "source": [
    "#### _3. Categories vs Metrics_"
   ]
  },
  {
   "cell_type": "markdown",
   "id": "0a67a308-a42e-46f4-b6d3-82da3e058519",
   "metadata": {},
   "source": [
    "- **Rows:**\n",
    "    - Category (`dim_category[category]`)\n",
    "    - Product Name (`dim_product[product_name]`)\n",
    "- **Values:**\n",
    "    - Profit Margin (%)\n",
    "    - Discount Orders Rate (%)\n",
    "    - Late Delivery Rate (%)"
   ]
  },
  {
   "cell_type": "markdown",
   "id": "607efcf6-3927-4aac-96cd-3d8ebfdd4397",
   "metadata": {},
   "source": [
    "🔍 Identifies tradeoffs of Profit, Discount and Late Deliveries throughout all categories, enables root-cause targeting at category level."
   ]
  },
  {
   "cell_type": "markdown",
   "id": "d9a52079-8a94-4af7-b790-2dd16965c4e0",
   "metadata": {
    "jp-MarkdownHeadingCollapsed": true
   },
   "source": [
    "#### _4. Insights Cards_"
   ]
  },
  {
   "cell_type": "markdown",
   "id": "0fa355b1-0627-4177-a6a9-dad8917cdee1",
   "metadata": {},
   "source": [
    "- **Five text boxes including summary of:**\n",
    "    - 💰 Revenue & Profit\n",
    "    - 🚚 Shipping & Logistics\n",
    "    - 📦 Product Performance\n",
    "    - 👥 Customer Behavior\n",
    "    - 🌍 Geography"
   ]
  },
  {
   "cell_type": "markdown",
   "id": "d21d610d-a3c7-4585-b944-85b02cb18616",
   "metadata": {
    "jp-MarkdownHeadingCollapsed": true
   },
   "source": [
    "🔍 Five high-level business summaries using cards and text visuals."
   ]
  },
  {
   "cell_type": "markdown",
   "id": "4c16bc26-4741-4598-8e0d-645481f267ee",
   "metadata": {
    "jp-MarkdownHeadingCollapsed": true
   },
   "source": [
    "### 🧠 Insights to Highlight"
   ]
  },
  {
   "cell_type": "markdown",
   "id": "887b88be-b436-414e-9839-354c90cdcfb5",
   "metadata": {},
   "source": [
    "- Are we maintaining a healthy balance between **profit and volume**?\n",
    "- Are **logistics bottlenecks** (e.g. high delays) affecting customer experience?\n",
    "- Are **loss leaders** hurting profitability?\n",
    "- Which **categories or regions** need pricing/logistics attention?\n",
    "- What are the **biggest levers** to improve bottom line?"
   ]
  },
  {
   "cell_type": "markdown",
   "id": "dff36ec6-7166-4349-9216-032d6b743d7b",
   "metadata": {
    "jp-MarkdownHeadingCollapsed": true
   },
   "source": [
    "### 📌 Insights Taken"
   ]
  },
  {
   "cell_type": "markdown",
   "id": "c64b3db3-ddc7-41a9-9eee-aef893da77a2",
   "metadata": {},
   "source": [
    "- 💰 **Revenue & Profit Performance**  \n",
    "    >- Despite generating **$33M in revenue** and maintaining a **12% margin**, profit leakage is evident in **~14K unprofitable orders**, concentrated heavily in the **Computer category**. This suggests an urgent need to **review pricing strategies** or **discount rules** in high-revenue, low-margin categories.\n",
    "    >\n",
    "    >- Additionally, the **top 10 customers contribute ~0.25% of total revenue** highlighting that while the very top customers contribute a small fraction of overall revenue, there isn't a significant reliance on a small subset of accounts at the very top. Even with this small contribution, it's still crucial to prioritize their **retention**. While their individual revenue impact might be low, losing several of them could still represent a noticeable decline in overall revenue and potentially signal underlying issues."
   ]
  },
  {
   "cell_type": "markdown",
   "id": "4c4e589c-47ac-4b5c-8202-a2afbb17cc6c",
   "metadata": {},
   "source": [
    "- 🚚 **Shipping & Logistics Risk**\n",
    "    >- The **late delivery rate exceeds 54%**, well above standard benchmarks. While the **average delay (0.57 days)** might seem minimal, this aggregate hides the fact that **\"First Class\" shipping shows ~95% delays**, indicating a severe mismatch between **promised and actual delivery performance**. This calls for a **reevaluation of service level agreements (SLAs)** and possibly **realignment of delivery modes**."
   ]
  },
  {
   "cell_type": "markdown",
   "id": "016bd1d4-d5a2-4732-9028-200d97174e43",
   "metadata": {},
   "source": [
    "- 📦 **Product Profitability Concerns**\n",
    "    >- **Computers**, while popular, are acting as **loss leaders**, appearing frequently in **top profit loss orders**. These may be **intentional promotions** or **pricing rule flaws**. In contrast, **Fishing products** consistently yield **high margins** as well as **high revenue and profit**, making them ideal for **growth campaigns and upselling** strategies."
   ]
  },
  {
   "cell_type": "markdown",
   "id": "190a5061-b7af-40f5-bc8a-5f6c6cc86993",
   "metadata": {},
   "source": [
    "- 👤 **Customer Behavior & Segmentation**\n",
    "    >- Returning customers dominate the customer base with a **1.4 : 1 ration over new customers**, suggesting good retention. However, **average order size remains high (5.84 items per order)**, which may be driven by **bundled promotions or bulk buying behavior** — both of which can be optimized further.\n",
    "    >- This also provides a foundation for a more advanced **RFM segmentation strategy** or **lifetime value modeling**, particularly to convert high cart-size behavior into a long-term retention."
   ]
  },
  {
   "cell_type": "markdown",
   "id": "3dc7908b-3622-4057-9a8a-a2e158515f48",
   "metadata": {},
   "source": [
    "- 🌍 **Geographic Efficiency**\n",
    "    >- Markets like **Pacific Asia and Europe** show **highest late delivery rates** while having the **worst margins**, signaling a potential combination of **logistics bottlenecks** and **underperforming product mixes**. These regions should be prioritized for **process improvements** or **pricing adjustments**.\n",
    "    >- Conversely, **North America (US/Canada)** remains the most **revenue-dense** and **operationally stable**, suggesting that proven logistics and category strategies here could be **replicated or adapted elsewhere**."
   ]
  },
  {
   "cell_type": "markdown",
   "id": "fb423b7d-441d-4fbc-a13b-4ea557e5b082",
   "metadata": {
    "jp-MarkdownHeadingCollapsed": true
   },
   "source": [
    "## 📊 Final Highlights & Strategic Takeaways"
   ]
  },
  {
   "cell_type": "markdown",
   "id": "996eb0e6-e6d6-4d04-8c57-31282931140f",
   "metadata": {},
   "source": [
    "Across the full supply chain and customers analytics journey, several **key themes** have emerged:"
   ]
  },
  {
   "cell_type": "markdown",
   "id": "4eac5237-6bf9-41ff-a1d1-931d3f5e59b7",
   "metadata": {},
   "source": [
    "🔍 **1. Profitability Isn't Tied to Volume**  \n",
    "- High revenue doesn't always translate to strong margins — categories like **Computers** and regions like **Europe** show significant revenue but weak profit performance. Discount strategies should be re-evaluated."
   ]
  },
  {
   "cell_type": "markdown",
   "id": "15c5a7a8-4e6d-49a0-8e80-97e869dfe930",
   "metadata": {},
   "source": [
    "📦 **2. Shipping & Fulfillment Is a Bottleneck**\n",
    "- With a **~54% late delivery rate**, especially on **First Class shipping**, logistics is a major operational concern. Despite low average delays, reliability and expectation mismatches impact customer trust."
   ]
  },
  {
   "cell_type": "markdown",
   "id": "689a5db4-2794-47a1-9123-33a182852c71",
   "metadata": {},
   "source": [
    "🛍️ **3. Strong Customer Behavior Foundations**\n",
    "- The business has solid **retention rates**, a healthy **average cart size** and **loyal top-spending customers**. These are strong foundations for **personalization**, **loyalty programs** or **lifetime value growth strategies**."
   ]
  },
  {
   "cell_type": "markdown",
   "id": "9721d322-0e8b-4cef-bcb0-2c556da52f88",
   "metadata": {},
   "source": [
    "🌍 **4. Market Expansion Opportunities**\n",
    "- North America dominates in performance, but **regions like Asia and Europe** show both room for growth and operational inefficiencies — warranting further market-specific review."
   ]
  },
  {
   "cell_type": "markdown",
   "id": "9db0e86c-a9ea-4c01-85c2-9e96bae8da26",
   "metadata": {},
   "source": [
    "💡 **5. Action Prioritization is Clear**\n",
    "- From the Action Radar, we know what needs **urgent fixing** (e.g. shipping delays, loss-making products), what should be **monitored or improved** and what should be **expanded strategically**."
   ]
  },
  {
   "cell_type": "markdown",
   "id": "91b2c5a4-33fd-4301-a70f-7534957e1a64",
   "metadata": {},
   "source": [
    "> In the end, the dataset reflects a business that's mature in **volume** but still has **high-impact optimization opportunities** in **logistics**, **pricing** and **customer value extraction**."
   ]
  }
 ],
 "metadata": {
  "kernelspec": {
   "display_name": "Python 3 (ipykernel)",
   "language": "python",
   "name": "python3"
  },
  "language_info": {
   "codemirror_mode": {
    "name": "ipython",
    "version": 3
   },
   "file_extension": ".py",
   "mimetype": "text/x-python",
   "name": "python",
   "nbconvert_exporter": "python",
   "pygments_lexer": "ipython3",
   "version": "3.12.3"
  }
 },
 "nbformat": 4,
 "nbformat_minor": 5
}
