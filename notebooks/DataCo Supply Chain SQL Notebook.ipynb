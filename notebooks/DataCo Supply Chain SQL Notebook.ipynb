{
 "cells": [
  {
   "cell_type": "markdown",
   "id": "db47bb76-741c-458a-817e-1d08a3f75ac5",
   "metadata": {
    "jp-MarkdownHeadingCollapsed": true
   },
   "source": [
    "# 📦 **Supply Chain Optimization using SQL**"
   ]
  },
  {
   "cell_type": "markdown",
   "id": "1fae6814-19dc-4973-b822-c04912e4d74c",
   "metadata": {
    "jp-MarkdownHeadingCollapsed": true
   },
   "source": [
    "## 🧾 **Project Overview**"
   ]
  },
  {
   "cell_type": "markdown",
   "id": "5b2045fe-2a73-41f7-86b8-bcdaed5b8640",
   "metadata": {},
   "source": [
    "This project explores operational performance and supply chain efficiency using the DataCo Smart Supply Chain dataset.  \n",
    "The goal is to uncover delivery inefficiencies, supplier risks, product performance and customer order patterns through advance SQL analysis and visualization in Power BI."
   ]
  },
  {
   "cell_type": "markdown",
   "id": "e94163f4-3b85-41c2-a6bf-0f3b1a4a115a",
   "metadata": {},
   "source": [
    "**🔧 Tools Used**:  \n",
    "- Google BigQuery (SQL)\n",
    "- Power BI\n",
    "- Jupyter Notebook (for analysis narrative)\n",
    "- Python (for minor cleaning and documentation)"
   ]
  },
  {
   "cell_type": "markdown",
   "id": "cc6ab469-7204-44d1-9f91-b23599602bea",
   "metadata": {},
   "source": [
    "**🎯 Focus Areas**:  \n",
    "- Order and delivery performance\n",
    "- Inventory and product-level profit analysis\n",
    "- Late delivery risks and shipping modes\n",
    "- Regional and warehouse performance"
   ]
  },
  {
   "cell_type": "markdown",
   "id": "08f36507-0e98-4b47-b996-b7c4e045921d",
   "metadata": {
    "jp-MarkdownHeadingCollapsed": true
   },
   "source": [
    "## 📁 **Dataset Import**"
   ]
  },
  {
   "cell_type": "markdown",
   "id": "918d800b-6949-49fc-bccd-83302f339585",
   "metadata": {},
   "source": [
    "The dataset was uploaded to Google BigQuery and imported using Character Map V2 to bypass schema errors.  \n",
    "A cleaned SQL view was created to normalize field names and remove special characters/spaces for easier querying."
   ]
  },
  {
   "cell_type": "markdown",
   "id": "370fd0cd-aec7-4db8-8620-168aaabcee7d",
   "metadata": {
    "jp-MarkdownHeadingCollapsed": true
   },
   "source": [
    "## 🧼 **Schema Cleaning**"
   ]
  },
  {
   "cell_type": "markdown",
   "id": "e78c90cd-3cc1-4f8b-a45f-ddc6d1ea5ccb",
   "metadata": {
    "jp-MarkdownHeadingCollapsed": true
   },
   "source": [
    "### 🧹 Column Standardization"
   ]
  },
  {
   "cell_type": "markdown",
   "id": "4370e495-ebe5-4060-8de2-b462fb819d40",
   "metadata": {},
   "source": [
    "The original dataset included over 50+ fields, many of which had inconsistent formatting (e.g., spaces, parentheses).  \n",
    "To ensure proper querying and compatibility with Power BI, a cleaned view was created with:  \n",
    "  \n",
    "- ✅ snake_case formatting\n",
    "- ✅ grouped fields (customer, order, product, delivery)\n",
    "- ✅ renamed financial metrics (e.g., `benefit_per_order` ➝ `revenue_per_order`)  \n",
    "  \n",
    "SQL View: `orders_cleaned`  \n",
    "Source: `DataCoSC.orders`  "
   ]
  },
  {
   "cell_type": "code",
   "execution_count": null,
   "id": "87cd23bb-f110-4dd6-8748-c90f72c6ceb9",
   "metadata": {},
   "outputs": [],
   "source": [
    "CREATE VIEW DataCoSC.orders_cleaned AS\n",
    "SELECT\n",
    "\n",
    "  -- 🧍 CUSTOMER\n",
    "  `Customer Id` AS customer_id,\n",
    "  `Customer Fname` AS customer_first_name,\n",
    "  `Customer Lname` AS customer_last_name,\n",
    "  `Customer Email` AS customer_email,\n",
    "  `Customer Password` AS customer_password,\n",
    "  `Customer Segment` AS customer_segment,\n",
    "  `Customer Street` AS customer_address,\n",
    "  `Customer Zipcode` AS customer_zipcode,\n",
    "  `Customer City` AS customer_city,\n",
    "  `Customer State` AS customer_state,\n",
    "  `Customer Country` AS customer_country,\n",
    "\n",
    "  -- 📦 PRODUCT / ORDER ITEMS\n",
    "  `Product Card Id` AS product_id,\n",
    "  `Product Name` AS product_name,\n",
    "  `Product Description` AS product_description,\n",
    "  `Product Image` AS product_image,\n",
    "  `Product Price` AS product_price,\n",
    "  `Product Status` AS product_status,\n",
    "  `Order Item Id` AS item_id,\n",
    "  `Order Item Cardprod Id` AS item_product_id,\n",
    "  `Order Item Quantity` AS item_quantity,\n",
    "  `Order Item Total` AS item_total,\n",
    "  `Order Item Profit Ratio` AS item_profit_ratio,\n",
    "  `Order Item Discount` AS item_discount,\n",
    "\n",
    "  -- 📑 ORDER\n",
    "  Type AS order_type,\n",
    "  `Order Id` AS order_id,\n",
    "  `Order Customer Id` AS order_customer_id,\n",
    "  `order date _DateOrders_` AS order_date,\n",
    "  `Order Status` AS order_status,\n",
    "  Sales AS order_sales,\n",
    "  `Order Profit Per Order` AS order_profit_per_order,\n",
    "\n",
    "  -- 🚚 SHIPPING\n",
    "  `Days for shipping _real_` AS days_for_shipping,\n",
    "  `Days for shipment _scheduled_` AS days_for_shipment_scheduled,\n",
    "  `shipping date _DateOrders_` AS shipping_date,\n",
    "  `Shipping Mode` AS shipping_mode,\n",
    "  `Delivery Status` AS delivery_status,\n",
    "  Late_delivery_risk AS late_delivery,\n",
    "\n",
    "  -- 🌍 GEOGRAPHY / MARKET\n",
    "  Market AS market,\n",
    "  `Order city` AS order_city,\n",
    "  `Order State` AS order_state,\n",
    "  `Order Country` AS order_country,\n",
    "  `Order Region` AS order_region,\n",
    "  `Order Zipcode` AS order_zipcode,\n",
    "  Latitude AS latitude,\n",
    "  Longitude AS longitude,\n",
    "\n",
    "  -- 🏬 CATEGORY / DEPARTMENT\n",
    "  `Category Id` AS category_id,\n",
    "  `Category Name` AS category_name,\n",
    "  `Department Id` AS department_id,\n",
    "  `Department Name` AS department,\n",
    "\n",
    "  -- 💰 DERIVED METRICS\n",
    "  `Benefit per order`AS revenue_per_order,\n",
    "  `Sales per customer` AS sales_per_customer\n",
    "\n",
    "FROM DataCoSC.orders"
   ]
  },
  {
   "cell_type": "markdown",
   "id": "a487abcc-549c-43f1-9ed8-36904fe62227",
   "metadata": {
    "jp-MarkdownHeadingCollapsed": true
   },
   "source": [
    "### 🧩 Schema Planning"
   ]
  },
  {
   "cell_type": "markdown",
   "id": "e074313c-df4d-4e5f-bb61-4ba25a021d7f",
   "metadata": {
    "jp-MarkdownHeadingCollapsed": true
   },
   "source": [
    "#### ❄️ *Schema Summary*"
   ]
  },
  {
   "cell_type": "markdown",
   "id": "ecc94da9-43cf-4199-ad4c-a6d690bc8c7a",
   "metadata": {},
   "source": [
    "The schema is planned to follow a normalized snwoflake model to improve flexibility and reduce redundancy.  \n",
    "\n",
    "**Fact Table:**\n",
    "- `fact_orders`: contains foreign keys and numerical metrics (e.g., sales, quantity, revenue)  \n",
    "\n",
    "**Dimension Tables:**\n",
    "- `dim_customer`: customer profile info (name, email, address, segment)\n",
    "- `dim_product`: product attributes (name, price, category)\n",
    "- `dim_category`: product categories and departments\n",
    "- `dim_shipping`: shipping method, scheduled vs actual days, delays\n",
    "- `dim_order_location`: geographic info for each order (city, state, country, region)\n",
    "- `dim_date`:supports order/shipping date hierarchies (e.g., year, quarter, month)  \n",
    "  \n",
    "Each dimension joins with the fact table via its respective key, e.g., `fact_orders.customer_id = dim_customer.customer_id`."
   ]
  },
  {
   "cell_type": "markdown",
   "id": "6075a9a1-7bc6-4ebb-8812-7e816d627929",
   "metadata": {
    "jp-MarkdownHeadingCollapsed": true
   },
   "source": [
    "#### 🪑 *Tables Creation*"
   ]
  },
  {
   "cell_type": "markdown",
   "id": "7dfc9ecd-ec49-4190-98e1-ef73105291bb",
   "metadata": {},
   "source": [
    "Creation of Fact and Dimension Tables was made by the use of Views."
   ]
  },
  {
   "cell_type": "markdown",
   "id": "48c0a551-b5ce-44ee-a045-c9251fd8e41f",
   "metadata": {
    "jp-MarkdownHeadingCollapsed": true
   },
   "source": [
    "##### 🗂️ Create Fact Table"
   ]
  },
  {
   "cell_type": "markdown",
   "id": "02c87817-81ad-4a39-b5cd-b1ac03800eb5",
   "metadata": {},
   "source": [
    "> This fact table contains transactional-level order data, including item quantities, revenue, profit, discount, shipping info and foreign keys to customer, product and date dimensions. It is the central table used for business metric calculations."
   ]
  },
  {
   "cell_type": "markdown",
   "id": "9a2489cc-f6b9-4331-be74-e28e468fdaae",
   "metadata": {},
   "source": [
    "**Key fields:**\n",
    "- `order_id` **(primary key)**\n",
    "- `customer_id`, `product_id`, `order_date`, `shipping_date`\n",
    "- `product_price`, `item_quantity`, `item_discount`, `item_total`, `item_profit_ratio`\n",
    "- `order_profit_per_order`, `revenue_per_order`, `sales_per_customer`\n",
    "- `shipping_mode`, `days_for_shipping`, `days_for_shipment_scheduled`, `late_delivery`, `delivery_status`"
   ]
  },
  {
   "cell_type": "code",
   "execution_count": null,
   "id": "22996b6e-16c3-4366-bf83-e7463e8dfc97",
   "metadata": {},
   "outputs": [],
   "source": [
    "CREATE VIEW DataCoSC.fact_orders AS\n",
    "SELECT\n",
    "  order_id,\n",
    "  order_customer_id AS customer_id,\n",
    "  item_product_id AS product_id,\n",
    "  FORMAT_DATE('%d-%m-%Y', DATE(order_date)) AS order_date,\n",
    "  FORMAT_DATE('%d-%m-%Y', DATE(shipping_date)) AS shipping_date,\n",
    "  shipping_mode,\n",
    "  product_price,\n",
    "  item_quantity,\n",
    "  item_discount,\n",
    "  item_total,\n",
    "  item_profit_ratio,\n",
    "  order_profit_per_order AS item_profit,\n",
    "  days_for_shipping,\n",
    "  days_for_shipment_scheduled,\n",
    "  revenue_per_order,\n",
    "  sales_per_customer,\n",
    "  late_delivery,\n",
    "  delivery_status\n",
    "FROM DataCoSC.orders_cleaned"
   ]
  },
  {
   "cell_type": "markdown",
   "id": "ce4f799e-1db2-45b8-b933-d247931ae144",
   "metadata": {
    "jp-MarkdownHeadingCollapsed": true
   },
   "source": [
    "##### 🗂️ Create Dimension Table - Customer"
   ]
  },
  {
   "cell_type": "markdown",
   "id": "d5eaac95-8fdb-4c96-832f-1e2642fc6ba8",
   "metadata": {},
   "source": [
    "> This dimension table contains customer demographic, geographic and segmentation data. It is grouped by `customer_id` to avoid duplicates and supports customer_level analysis."
   ]
  },
  {
   "cell_type": "markdown",
   "id": "f55aaf51-2fb5-45f9-9347-c750b4163683",
   "metadata": {},
   "source": [
    "**Key fields:**\n",
    "- `customer_id` **(primary key)**\n",
    "- `first_name`, `last_name`, `email`, `segment`\n",
    "- `address`, `city`, `state`, `country`, `zipcode`"
   ]
  },
  {
   "cell_type": "code",
   "execution_count": null,
   "id": "da3a2a3a-2de5-4418-ae7d-139a428a25f9",
   "metadata": {},
   "outputs": [],
   "source": [
    "CREATE VIEW DataCoSC.dim_customer AS\n",
    "SELECT\n",
    "  customer_id,\n",
    "  customer_first_name AS first_name,\n",
    "  customer_last_name AS last_name,\n",
    "  customer_email AS email,\n",
    "  customer_segment AS segment,\n",
    "  customer_address AS address,\n",
    "  customer_city AS city,\n",
    "  customer_state AS state,\n",
    "  customer_country AS country,\n",
    "  customer_zipcode AS zipcode\n",
    "FROM DataCoSC.orders_cleaned\n",
    "GROUP BY\n",
    "  customer_id,\n",
    "  customer_first_name,\n",
    "  customer_last_name,\n",
    "  customer_email,\n",
    "  customer_segment,\n",
    "  customer_address,\n",
    "  customer_city,\n",
    "  customer_state,\n",
    "  customer_country,\n",
    "  customer_zipcode"
   ]
  },
  {
   "cell_type": "markdown",
   "id": "32bf735d-116b-4fba-acba-1ae3fdd9b662",
   "metadata": {
    "jp-MarkdownHeadingCollapsed": true
   },
   "source": [
    "##### 🗂️ Create Dimension Table - Product"
   ]
  },
  {
   "cell_type": "markdown",
   "id": "371353b3-7b36-49be-9dfe-7e2c39bdeaa6",
   "metadata": {},
   "source": [
    "> This table includes descriptive attributes of each product and links to the category dimension. It supports product-level breakdowns and profitability tracking."
   ]
  },
  {
   "cell_type": "markdown",
   "id": "b4cddb6b-bc0d-497b-bf00-cc02396a228c",
   "metadata": {},
   "source": [
    "**Key fields:**\n",
    "- `product_id` **(primary key)**\n",
    "- `product_name`, `product_description`, `product_image`, `product_price`, `product_status`\n",
    "- `category_id` **(foreign key to `dim_category`)**"
   ]
  },
  {
   "cell_type": "code",
   "execution_count": null,
   "id": "5237b663-72f9-4778-8cde-fe3d34d84e4f",
   "metadata": {},
   "outputs": [],
   "source": [
    "CREATE VIEW DataCoSC.dim_product AS\n",
    "SELECT\n",
    "  product_id,\n",
    "  product_name,\n",
    "  product_description,\n",
    "  product_image,\n",
    "  product_price,\n",
    "  product_status,\n",
    "  category_id\n",
    "FROM DataCoSC.orders_cleaned\n",
    "GROUP BY\n",
    "  product_id,\n",
    "  product_name,\n",
    "  product_description,\n",
    "  product_image,\n",
    "  product_price,\n",
    "  product_status,\n",
    "  category_id"
   ]
  },
  {
   "cell_type": "markdown",
   "id": "38773214-ae76-45f0-b175-23f150b66300",
   "metadata": {
    "jp-MarkdownHeadingCollapsed": true
   },
   "source": [
    "##### 🗂️ Create Dimension Table - Category"
   ]
  },
  {
   "cell_type": "markdown",
   "id": "516b6964-2cbd-4789-b7d5-755c97135e84",
   "metadata": {
    "jp-MarkdownHeadingCollapsed": true
   },
   "source": [
    "> Grouped by `category_id`, this table defines product categories and the departments they belong to. Used for hierarchical product analysis."
   ]
  },
  {
   "cell_type": "markdown",
   "id": "672331d9-6c7a-41a3-8eab-ac795295e36f",
   "metadata": {},
   "source": [
    "**Key fields:**\n",
    "- `category_id` **(primary key)**\n",
    "- `category`, `department`, `department_id`"
   ]
  },
  {
   "cell_type": "code",
   "execution_count": null,
   "id": "3a4bcc8e-1785-4fb2-8f11-b901cf3c5383",
   "metadata": {},
   "outputs": [],
   "source": [
    "CREATE VIEW DataCoSC.dim_category AS\n",
    "SELECT\n",
    "  category_id,\n",
    "  category_name AS category,\n",
    "  department_id,\n",
    "  department\n",
    "FROM DataCoSC.orders_cleaned\n",
    "GROUP BY\n",
    "  category_id,\n",
    "  category,\n",
    "  department_id,\n",
    "  department"
   ]
  },
  {
   "cell_type": "markdown",
   "id": "4ac4c268-c648-4cdf-878c-d78adedcae12",
   "metadata": {
    "jp-MarkdownHeadingCollapsed": true
   },
   "source": [
    "##### 🗂️ Create Dimension Table - Order Location"
   ]
  },
  {
   "cell_type": "markdown",
   "id": "5123b836-b3d8-4550-a696-8a9a2ac7eb01",
   "metadata": {},
   "source": [
    "> This table maps each order to its location of origin, including city, region and country. It enables regional and geographic sales analysis."
   ]
  },
  {
   "cell_type": "markdown",
   "id": "07cfd5d8-b072-425a-8ab0-b44b016ab9fb",
   "metadata": {},
   "source": [
    "**Key fields:**\n",
    "- `order_id` **(primary key)**\n",
    "- `order_city`, `order_state`, `order_region`, `order_country`\n",
    "- `order_zipcode`, `market`"
   ]
  },
  {
   "cell_type": "code",
   "execution_count": null,
   "id": "59796a04-e4be-4ab7-9ac9-8c50ddc9b89b",
   "metadata": {},
   "outputs": [],
   "source": [
    "CREATE VIEW DataCoSC.dim_order_location AS\n",
    "SELECT\n",
    "  order_id,\n",
    "  order_city,\n",
    "  order_state,\n",
    "  order_region,\n",
    "  order_country,\n",
    "  order_zipcode,\n",
    "  market\n",
    "FROM DataCoSC.orders_cleaned\n",
    "GROUP BY\n",
    "  order_id,\n",
    "  order_city,\n",
    "  order_state,\n",
    "  order_region,\n",
    "  order_country,\n",
    "  order_zipcode,\n",
    "  market"
   ]
  },
  {
   "cell_type": "markdown",
   "id": "83b16649-bbef-46bc-b97c-81527995489f",
   "metadata": {
    "jp-MarkdownHeadingCollapsed": true
   },
   "source": [
    "##### 🗂️ Create Dimension Table - Shipping"
   ]
  },
  {
   "cell_type": "markdown",
   "id": "105486be-c819-4a2f-a242-6932a6de0b4d",
   "metadata": {},
   "source": [
    "> This shipping dimension includes delivery mode, schedule adherence and late delivery flags. Grouped by `order_id`, it is used to evaluate shipping efficiency and logistics performance."
   ]
  },
  {
   "cell_type": "markdown",
   "id": "181ad065-3ded-4628-9e4e-e7eb8bb4000b",
   "metadata": {},
   "source": [
    "**Key fields:**\n",
    "- `order_id` **(primary key)**\n",
    "- `shipping_mode`, `days_for_shipping`, `days_for_shipment_scheduled`\n",
    "- `late_delivery`, `delivery_status`"
   ]
  },
  {
   "cell_type": "code",
   "execution_count": null,
   "id": "c44c2def-74e9-4821-adc4-6c6f79cdeff0",
   "metadata": {},
   "outputs": [],
   "source": [
    "CREATE VIEW DataCoSC.dim_shipping AS\n",
    "SELECT\n",
    "  order_id,\n",
    "  shipping_mode,\n",
    "  days_for_shipping,\n",
    "  days_for_shipment_scheduled,\n",
    "  late_delivery,\n",
    "  delivery_status\n",
    "FROM DataCoSC.orders_cleaned\n",
    "GROUP BY\n",
    "  order_id,\n",
    "  shipping_mode,\n",
    "  days_for_shipping,\n",
    "  days_for_shipment_scheduled,\n",
    "  late_delivery,\n",
    "  delivery_status"
   ]
  },
  {
   "cell_type": "markdown",
   "id": "4c0fb619-468c-4f51-a9ae-32cc19b3eac1",
   "metadata": {
    "jp-MarkdownHeadingCollapsed": true
   },
   "source": [
    "##### 🗂️ Create Dimension Table - Date"
   ]
  },
  {
   "cell_type": "markdown",
   "id": "72b4092e-4d7d-445a-b741-c3952734afdf",
   "metadata": {},
   "source": [
    "> This is a calendar dimension used to support flexible time-based analysis. It was generated from the order and shipping ranges in the dataset and includes various date hierarchies."
   ]
  },
  {
   "cell_type": "markdown",
   "id": "478ecbfa-cd81-476f-89de-31ad5b274d93",
   "metadata": {},
   "source": [
    "**Key fields:**\n",
    "- `date` **(primary key)**\n",
    "- `year`, `quarter`, `month`, `week`, `day_of_year`\n",
    "- `month_name`, `weekday`, `weekday_name`\n",
    "- `year_month`, `full_date`"
   ]
  },
  {
   "cell_type": "code",
   "execution_count": null,
   "id": "12c13802-8c2a-4051-865a-1f4e08d4e713",
   "metadata": {},
   "outputs": [],
   "source": [
    "CREATE VIEW DataCoSC.dim_date AS\n",
    "WITH date_bounds AS (\n",
    "  SELECT\n",
    "    DATE(MIN(order_date)) AS start_date,\n",
    "    DATE(MAX(order_date)) AS end_date\n",
    "  FROM DataCoSC.orders_cleaned\n",
    "),\n",
    "date_range AS (\n",
    "  SELECT\n",
    "    DATE_ADD(start_date, INTERVAL day_num DAY) AS date\n",
    "  FROM date_bounds,\n",
    "      UNNEST(GENERATE_ARRAY(0, DATE_DIFF(end_date, start_date, DAY))) AS day_num\n",
    ")\n",
    "SELECT\n",
    "  FORMAT_DATE('%d-%m-%Y', date) AS date,\n",
    "  EXTRACT(YEAR FROM date) AS year,\n",
    "  EXTRACT(QUARTER FROM date) AS quarter,\n",
    "  EXTRACT(MONTH FROM date) AS month,\n",
    "  FORMAT_DATE('%B', date) AS month_name,\n",
    "  EXTRACT(WEEK FROM date) AS week,\n",
    "  EXTRACT(DAYOFWEEK FROM date) AS weekday,\n",
    "  FORMAT_DATE('%A', date) AS weekday_name,\n",
    "  EXTRACT(DAYOFYEAR FROM date) AS day_of_year,\n",
    "  FORMAT_DATE('%Y-%m', date) AS year_month,\n",
    "  FORMAT_DATE('%Y-%m-%d', date) AS full_date\n",
    "FROM date_range"
   ]
  },
  {
   "cell_type": "markdown",
   "id": "742a888f-2cf4-4641-ac61-92e7388d8731",
   "metadata": {
    "jp-MarkdownHeadingCollapsed": true
   },
   "source": [
    "### 🧱 Data Warehouse Schema"
   ]
  },
  {
   "cell_type": "markdown",
   "id": "328f0c3b-749a-4235-8833-7cf73eedc952",
   "metadata": {},
   "source": [
    "This project uses a Snowflake Schema to model the cleaned supply chain dataset.  \n",
    "The design separates dimensional data into multiple related lookup tables for better normalization, flexibility and scalability.  \n",
    "\n",
    "The central `fact_orders` tables captures transactional-level order data, while dimensional tables describe products, customers, dates, shipping details and order locations."
   ]
  },
  {
   "cell_type": "markdown",
   "id": "ed2b6800-2d42-45d7-aa5c-4e55aaf6b363",
   "metadata": {
    "jp-MarkdownHeadingCollapsed": true
   },
   "source": [
    "#### 🖼️ *Schema Design*"
   ]
  },
  {
   "cell_type": "markdown",
   "id": "86887b79-bff4-4643-bd29-c0578548e592",
   "metadata": {
    "jp-MarkdownHeadingCollapsed": true
   },
   "source": [
    "The data warehouse schema for this project follows a **snowflake design**, optimizing dimensions like product, customer, shipping and date to support advanced analysis in a normalized structure."
   ]
  },
  {
   "cell_type": "markdown",
   "id": "50db6901-383e-4264-99ce-33709ee3a1cb",
   "metadata": {},
   "source": [
    "📁 **Resources**:  \n",
    "- 🔗 [Schema Diagram (Interactive - dbdiagram.io)](https://dbdiagram.io/d/DataCo-Supply-Chain-Schema-68308545b9f7446da3e05968)  \n",
    "      Visual schema showing tables and relationships crated using [dbdiagram.io](https://dbdiagram.io/).  \n",
    "- 📄 [Schema Documentation (DBDocs)](https://dbdocs.io/bsilva1297/DataCo-Supply-Chain-Schema)  \n",
    "      Auto-generated entity documentation powered by [DBDocs.io](https://dbdocs.io/), based on the schema.  \n",
    "- 📥 [Download PDF Schema](https://github.com/brunopata/DataCo-Supply-Chain/blob/main/schema/DataCo%20Supply%20Chain%20Tables%20Schema.pdf)  \n",
    "      Static version of the schema for offline reference or sharing.  "
   ]
  },
  {
   "cell_type": "markdown",
   "id": "866e09df-6ca6-4225-a5bf-dea8c6f364ef",
   "metadata": {},
   "source": [
    "📌 **Tools Used**:  \n",
    "- `dbdiagram.io` - Schema modeling and ERD generation\n",
    "- `DBML` - Lightweight schema markup\n",
    "- `DBDocs` - Auto-published database documentation"
   ]
  },
  {
   "cell_type": "markdown",
   "id": "711b147f-ab74-4f6d-a773-3e1abca9cbfb",
   "metadata": {
    "jp-MarkdownHeadingCollapsed": true
   },
   "source": [
    "#### 👨‍💻 *Schema Modeling Tool*"
   ]
  },
  {
   "cell_type": "markdown",
   "id": "8f15b259-0a11-46bf-9385-e59cb900e542",
   "metadata": {},
   "source": [
    "The data warehouse schema was designed using [dbdiagram.io](https://dbdiagram.io/), a tool for visualizing and generating entity-relationship diagrams (ERDs) using code.  \n",
    "\n",
    "Below is the DBML (Database Markup Language) code used to create the schema:"
   ]
  },
  {
   "cell_type": "code",
   "execution_count": null,
   "id": "6e9a8f23-e424-4f07-b8e7-f9a42cd78d27",
   "metadata": {},
   "outputs": [],
   "source": [
    "Table fact_orders {\n",
    "  order_id integer [primary key]\n",
    "  customer_id integer\n",
    "  product_id integer\n",
    "  order_date date\n",
    "  shipping_date date\n",
    "  shipping_mode string\n",
    "  product_price float\n",
    "  item_total float\n",
    "  item_quantity integer\n",
    "  item_discount float\n",
    "  item_profit_ratio float\n",
    "  order_profit_per_order float\n",
    "  revenue_per_order float\n",
    "  days_for_shipping integer\n",
    "  days_for_shipment_scheduled integer\n",
    "  late_delivery boolean\n",
    "  delivery_status string\n",
    "  sales_per_customer float\n",
    "}\n",
    "\n",
    "Table dim_customer {\n",
    "  customer_id integer [primary key]\n",
    "  first_name string\n",
    "  last_name string\n",
    "  email string\n",
    "  segment string\n",
    "  address string\n",
    "  zipcode string\n",
    "  city string\n",
    "  state string\n",
    "  country string\n",
    "}\n",
    "\n",
    "Table dim_product {\n",
    "  product_id integer [primary key]\n",
    "  product_name string\n",
    "  product_description string\n",
    "  product_image string\n",
    "  product_price float\n",
    "  product_status integer\n",
    "  category_id integer\n",
    "}\n",
    "\n",
    "Table dim_category {\n",
    "  category_id integer [primary key]\n",
    "  category string\n",
    "  department_id integer\n",
    "  department string\n",
    "}\n",
    "\n",
    "Table dim_shipping {\n",
    "  order_id integer [primary key]\n",
    "  shipping_mode string\n",
    "  days_for_shipping integer\n",
    "  days_for_shipment_scheduled integer\n",
    "  late_delivery boolean\n",
    "  delivery_status string\n",
    "}\n",
    "\n",
    "Table dim_order_location {\n",
    "  order_id integer [primary key]\n",
    "  order_city string\n",
    "  order_state string\n",
    "  order_region string\n",
    "  order_country string\n",
    "  order_zipcode integer\n",
    "  market string\n",
    "}\n",
    "\n",
    "Table dim_date {\n",
    "  date date [primary key]\n",
    "  year integer\n",
    "  quarter integer\n",
    "  month integer\n",
    "  month_name string\n",
    "  week integer\n",
    "  weekday integer\n",
    "  weekday_name string\n",
    "  day_of_year integer\n",
    "  year_month string\n",
    "  full_date string\n",
    "}\n",
    "\n",
    "Ref fact_orders_dim_date: fact_orders.order_date > dim_date.date // many-to-one\n",
    "\n",
    "Ref fact_orders_dim_date: fact_orders.shipping_date > dim_date.date // many-to-one\n",
    "\n",
    "Ref fact_orders_dim_customer: fact_orders.customer_id > dim_customer.customer_id // many-to-one\n",
    "\n",
    "Ref fact_orders_dim_product: fact_orders.product_id > dim_product.product_id // many-to-one\n",
    "\n",
    "Ref dim_product_dim_category: dim_product.category_id > dim_category.category_id // many-to-one\n",
    "\n",
    "Ref: fact_orders.order_id < dim_shipping.order_id\n",
    "\n",
    "Ref: fact_orders.order_id < dim_order_location.order_id"
   ]
  },
  {
   "cell_type": "markdown",
   "id": "7d4172c2-756f-4430-a523-6dace728e65d",
   "metadata": {
    "jp-MarkdownHeadingCollapsed": true
   },
   "source": [
    "## 📊 **Early Data Exploration & Descriptive Analysis**"
   ]
  },
  {
   "cell_type": "markdown",
   "id": "20e68b91-1ff9-4e1d-b818-19faa0235244",
   "metadata": {
    "jp-MarkdownHeadingCollapsed": true
   },
   "source": [
    "Before diving into in-depth analysis or business intelligence modelling, this section performs an early-stage exploration of the cleaned dataset.  \n",
    "\n",
    "The objective of this exploration is to:  \n",
    "\n",
    "- Validate the quality and completeness of the data\n",
    "- Understand the distribution of key numerical metrics (e.g., quantity, revenue, profit)\n",
    "- Identify missing values or potential outliers\n",
    "- Get a sense of how customers, products, categories and countries are represented\n",
    "\n",
    "This step ensures data readiness and helps guide decisions on whichs KPIs, dimensions or trends are worth pursuing further in later stages of the analysis."
   ]
  },
  {
   "cell_type": "markdown",
   "id": "f6481528-1709-42c0-a429-49507f9b1937",
   "metadata": {
    "jp-MarkdownHeadingCollapsed": true
   },
   "source": [
    "### 1️⃣ Row & Column Summary"
   ]
  },
  {
   "cell_type": "markdown",
   "id": "9fabd088-8c4c-417f-a268-765d09d76aed",
   "metadata": {},
   "source": [
    "For exploration on the total number of rows and columns of data across the dataset."
   ]
  },
  {
   "cell_type": "code",
   "execution_count": null,
   "id": "245bcc33-78b6-4f90-b0b7-817b2b70893a",
   "metadata": {},
   "outputs": [],
   "source": [
    "# Total Number of Rows\n",
    "\n",
    "SELECT COUNT(*) AS total_rows\n",
    "FROM `DataCoSC.orders_cleaned`"
   ]
  },
  {
   "cell_type": "code",
   "execution_count": null,
   "id": "f70625af-ab6b-4aa0-aeb0-316dde5cb080",
   "metadata": {},
   "outputs": [],
   "source": [
    "# Total Number of Columns\n",
    "\n",
    "SELECT COUNT(*) AS total_columns\n",
    "FROM `DataCoSC.INFORMATION_SCHEMA.COLUMNS`\n",
    "WHERE table_name = 'orders_cleaned'"
   ]
  },
  {
   "cell_type": "markdown",
   "id": "400f552b-af07-45a9-8d51-e02828a8bee2",
   "metadata": {},
   "source": [
    "📄 The dataset consists of **180519 rows** and **50 columns**, covering customer, order, product and shipping dimensions."
   ]
  },
  {
   "cell_type": "markdown",
   "id": "17abe010-36b2-47d3-a729-3e2196392f27",
   "metadata": {
    "jp-MarkdownHeadingCollapsed": true
   },
   "source": [
    "### 2️⃣ Null & Missing Value Analysis"
   ]
  },
  {
   "cell_type": "markdown",
   "id": "b30b4db7-854f-4c57-ae13-fb15ee777479",
   "metadata": {},
   "source": [
    "For critical fields like `order_date`, `customer_id`, `product_id` and `shipping_date`."
   ]
  },
  {
   "cell_type": "code",
   "execution_count": null,
   "id": "f737242d-cb60-48df-b37a-ed1385acc280",
   "metadata": {
    "jp-MarkdownHeadingCollapsed": true
   },
   "outputs": [],
   "source": [
    "# Total Number of Missing Values across Critical Fields\n",
    "\n",
    "SELECT\n",
    "    COUNTIF(order_date IS NULL) AS null_order_date,\n",
    "    COUNTIF(customer_id IS NULL) AS null_customer_id,\n",
    "    COUNTIF(product_id IS NULL) AS null_product_id,\n",
    "    COUNTIF(shipping_date IS NULL) AS null_shipping_date\n",
    "FROM `DataCoSC.orders_cleaned`"
   ]
  },
  {
   "cell_type": "markdown",
   "id": "dd3017b0-5a65-4fe5-8d92-ab92bd815ff7",
   "metadata": {
    "jp-MarkdownHeadingCollapsed": true
   },
   "source": [
    "📄 The dataset appears to be properly cleaned, with **no nulls or missing values** across critical fields such as `order_date`, `customer_id`, `product_id` and `shipping_date`."
   ]
  },
  {
   "cell_type": "markdown",
   "id": "7a5092e3-db30-4bda-aa82-522842ec9851",
   "metadata": {
    "jp-MarkdownHeadingCollapsed": true
   },
   "source": [
    "### 3️⃣ Basic Descriptive Stats"
   ]
  },
  {
   "cell_type": "markdown",
   "id": "ebf88c56-01ac-41a7-a7d9-120f96dce119",
   "metadata": {
    "jp-MarkdownHeadingCollapsed": true
   },
   "source": [
    "For basic information on finances, customers, regions and sold products."
   ]
  },
  {
   "cell_type": "code",
   "execution_count": null,
   "id": "eebc30c7-722a-44fa-9eb8-521439be914b",
   "metadata": {
    "jp-MarkdownHeadingCollapsed": true
   },
   "outputs": [],
   "source": [
    "# Order-Level KPIs\n",
    "\n",
    "SELECT\n",
    "    ROUND(MIN(order_total), 2) AS min_order_value,\n",
    "    ROUND(MAX(order_total), 2) AS max_order_value,\n",
    "    ROUND(AVG(order_total), 2) AS avg_order_value,\n",
    "    ROUND(SUM(order_total), 2) AS total_revenue,\n",
    "\n",
    "    ROUND(MIN(item_quantity), 2) AS min_item_quantity_per_row,\n",
    "    ROUND(MAX(item_quantity), 2) AS max_item_quantity_per_row,\n",
    "    ROUND(AVG(item_quantity), 2) AS avg_item_quantity_per_row,\n",
    "    SUM(item_quantity) AS total_item_quantity,\n",
    "\n",
    "    ROUND(SUM(item_discount), 2) AS total_discount,\n",
    "    ROUND(SUM(order_profit), 2) AS total_profit,\n",
    "\n",
    "    COUNT(DISTINCT order_id) AS total_orders,\n",
    "    COUNT(DISTINCT customer_id) AS total_customers,\n",
    "    COUNT(DISTINCT order_country) AS total_countries\n",
    "FROM (\n",
    "    SELECT\n",
    "        order_id,\n",
    "        customer_id,\n",
    "        order_country,\n",
    "        SUM(item_total) AS order_total,\n",
    "        SUM(item_quantity) AS item_quantity,\n",
    "        MAX(order_profit_per_order) AS order_profit,\n",
    "        SUM(item_discount) AS item_discount\n",
    "    FROM `DataCoSC.orders_cleaned`\n",
    "    GROUP BY\n",
    "        order_id,\n",
    "        customer_id,\n",
    "        order_country\n",
    ")"
   ]
  },
  {
   "cell_type": "code",
   "execution_count": null,
   "id": "4cacdc9b-0f02-4acf-ac72-583ca07d0509",
   "metadata": {
    "jp-MarkdownHeadingCollapsed": true
   },
   "outputs": [],
   "source": [
    "# Product-Level Stats\n",
    "\n",
    "SELECT\n",
    "    COUNT(DISTINCT product_id) AS total_unique_products,\n",
    "    COUNT(DISTINCT category_id) AS total_categories,\n",
    "    COUNT(DISTINCT department_id) AS total_departments\n",
    "FROM `DataCoSC.orders_cleaned`"
   ]
  },
  {
   "cell_type": "markdown",
   "id": "f6a38270-5e68-4112-9a28-7c337a9e0d0c",
   "metadata": {
    "jp-MarkdownHeadingCollapsed": true
   },
   "source": [
    "📄 **Basic Descriptive Stats Insights**:  \n",
    "- ✅ **Average Order Quantity**: The average order includes `5.84` items, with a minimum of `1` and a maximum of `24`, suggesting a typical basket size and occasional bulk orders.  \n",
    "- ✅ **Order Value Range**: Total order values `33054402.38`, range from as low as `7.49` to as high as `2768.41`, with an average around `502.71`. This indicates a variability in customer purchase behavior (likely due to product type or promotions).  \n",
    "- ✅ **Total Profit Generated**: Across all orders, the dataset captures a total profit of `4236362.68`, providing a reference point for margin-focused analysis.\n",
    "- ✅ **Total Orders and Items Sold**: A total of `65752` unique orders were processed, comprising `384079` individual items. This indicates bundled purchasing or multi-product orders.\n",
    "- ✅ **Discounts Accumulated**: Customers redeemed `3730378.4` in total discounts, representing a significant cost center for the business. This signals aggressive pricing strategies or maybe loyalty-driven promotions. It warrants further analysis of discount effectiveness vs. profit impact.\n",
    "- ✅ **Customer & Product Reach**:  \n",
    "  - The dataset contains `20652` unique customers and `118` unique products, `51` different categories and `11` total departments, supporting customer segmentation and product performance analysis.\n",
    "  - Orders were placed across `164` different countries, making geographic breakdowns meaningful.\n",
    "\n",
    "These stats provide a foundation for deeper investigation into customer behavior, product profitability and market performance."
   ]
  },
  {
   "cell_type": "markdown",
   "id": "466084fb-3e8a-4cb0-a424-7b67a3b2c181",
   "metadata": {
    "jp-MarkdownHeadingCollapsed": true
   },
   "source": [
    "### 4️⃣ Top Products / Categories / Customers / Country"
   ]
  },
  {
   "cell_type": "markdown",
   "id": "f77c7831-ac69-46b2-9607-97038e9a6a11",
   "metadata": {
    "jp-MarkdownHeadingCollapsed": true
   },
   "source": [
    "For top selling categories and products, countries with most orders and best customers."
   ]
  },
  {
   "cell_type": "markdown",
   "id": "ed652dd4-3775-4a43-b6b2-dc27e647ee2b",
   "metadata": {
    "jp-MarkdownHeadingCollapsed": true
   },
   "source": [
    "#### *Top Products*"
   ]
  },
  {
   "cell_type": "code",
   "execution_count": null,
   "id": "5e85755b-2545-4432-b8be-6587565a0b0a",
   "metadata": {
    "jp-MarkdownHeadingCollapsed": true
   },
   "outputs": [],
   "source": [
    "# Top 10 Products\n",
    "\n",
    "SELECT\n",
    "    product_name,\n",
    "    COUNT(*) AS orders\n",
    "FROM `DataCoSC.orders_cleaned`\n",
    "GROUP BY product_name\n",
    "ORDER BY orders DESC\n",
    "LIMIT 10"
   ]
  },
  {
   "cell_type": "markdown",
   "id": "0f15ede1-1678-4fa5-8db0-15b82434cc4f",
   "metadata": {
    "jp-MarkdownHeadingCollapsed": true
   },
   "source": [
    "📄 These product generate the highest number of sales, making them strong candidates for promotions, inventory priorization and forecasting.\n",
    "  \n",
    "  1. **Perfect Fitness Perfect Rip Deck**\n",
    "  2. **Nike Men's CJ Elite 2 TD Football Cleat**\n",
    "  3. **Nike Men's Dri-FIT Victory Golf Polo**\n",
    "  4. **O'Brien Men's Neoprene Life Vest**\n",
    "  5. **Field & Stream Sportsman 16 Gun Fire Safe**\n",
    "  6. **Pelican Sunstream 100 Kayak**\n",
    "  7. **Diamondback Women's Serene Classic Comfort Bi**\n",
    "  8. **Nike Men's Free 5.0+ Running Shoe**\n",
    "  9. **Under Armour Girls' Toddler Spine Surge Runni**\n",
    "  10. **Fighting video games**"
   ]
  },
  {
   "cell_type": "markdown",
   "id": "3dda9e9a-0317-4219-9d63-18a1f6a8471b",
   "metadata": {
    "jp-MarkdownHeadingCollapsed": true
   },
   "source": [
    "#### *Top Categories*"
   ]
  },
  {
   "cell_type": "code",
   "execution_count": null,
   "id": "ade7d4ac-6f09-40a7-b402-08830442ae07",
   "metadata": {
    "jp-MarkdownHeadingCollapsed": true
   },
   "outputs": [],
   "source": [
    "# Top 5 Categories\n",
    "\n",
    "SELECT\n",
    "    category_name,\n",
    "    COUNT(*) AS orders\n",
    "FROM `DataCoSC.orders_cleaned`\n",
    "GROUP BY category_name\n",
    "ORDER BY orders DESC\n",
    "LIMIT 5"
   ]
  },
  {
   "cell_type": "markdown",
   "id": "2c053ab0-7c0b-4d6a-adef-5528e785d1f0",
   "metadata": {
    "jp-MarkdownHeadingCollapsed": true
   },
   "source": [
    "📄 Product line strategies can be tailored based on revenue vs. volume insights.  \n",
    "\n",
    "  1. **Cleats**\n",
    "  2. **Men's Footwear**\n",
    "  3. **Women's Apparel**\n",
    "  4. **Indoor/Outdoor Games**\n",
    "  5. **Fishing**"
   ]
  },
  {
   "cell_type": "markdown",
   "id": "e9151fe7-6c64-45ea-a943-24c524712322",
   "metadata": {
    "jp-MarkdownHeadingCollapsed": true
   },
   "source": [
    "#### *Top Customers*"
   ]
  },
  {
   "cell_type": "code",
   "execution_count": null,
   "id": "a62f3e0b-623b-48c5-aadc-89e210ebb2cf",
   "metadata": {
    "jp-MarkdownHeadingCollapsed": true
   },
   "outputs": [],
   "source": [
    "# Top 10 Customers\n",
    "\n",
    "SELECT\n",
    "    customer_id,\n",
    "    customer_name,\n",
    "    customer_first_name,\n",
    "    customer_last_name,\n",
    "    COUNT(*) AS orders\n",
    "FROM (\n",
    "    SELECT\n",
    "        order_id,\n",
    "        customer_id,\n",
    "        CONCAT(customer_first_name, ' ', customer_last_name) AS customer_name,\n",
    "        customer_first_name,\n",
    "        customer_last_name\n",
    "    FROM `DataCoSC.orders_cleaned`\n",
    "    GROUP BY\n",
    "        order_id,\n",
    "        customer_id,\n",
    "        customer_first_name,\n",
    "        customer_last_name\n",
    ")\n",
    "GROUP BY customer_id, customer_name, customer_first_name, customer_last_name\n",
    "ORDER BY orders DESC\n",
    "LIMIT 10"
   ]
  },
  {
   "cell_type": "markdown",
   "id": "bdf75b59-9d0f-4434-929a-7534451340c2",
   "metadata": {
    "jp-MarkdownHeadingCollapsed": true
   },
   "source": [
    "📄 Top customers are all within the same range of orders, these values of sales show that loyalty programs or tailored offers could be ideal.  \n",
    "\n",
    "  1. **15 orders**\n",
    "  2. **14 orders**\n",
    "  3. **14 orders**\n",
    "  4. **14 orders**\n",
    "  5. **14 orders**\n",
    "  6. **14 orders**\n",
    "  7. **13 orders**\n",
    "  8. **13 orders**\n",
    "  9. **13 orders**\n",
    "  10. **13 orders**"
   ]
  },
  {
   "cell_type": "markdown",
   "id": "5c5fc134-95b1-4f6b-97af-4c602df7843b",
   "metadata": {
    "jp-MarkdownHeadingCollapsed": true
   },
   "source": [
    "#### *Top Countries*"
   ]
  },
  {
   "cell_type": "code",
   "execution_count": null,
   "id": "cf940db1-44e5-43ee-97ca-3e2cf2b5cda3",
   "metadata": {
    "jp-MarkdownHeadingCollapsed": true
   },
   "outputs": [],
   "source": [
    "# Top 10 Countries\n",
    "\n",
    "SELECT\n",
    "    order_country,\n",
    "    COUNT(*) AS orders\n",
    "FROM (\n",
    "    SELECT\n",
    "        order_id,\n",
    "        order_country\n",
    "    FROM `DataCoSC.orders_cleaned`\n",
    "    GROUP BY\n",
    "        order_id,\n",
    "        order_country\n",
    ")\n",
    "GROUP BY order_country\n",
    "ORDER BY orders DESC\n",
    "LIMIT 10"
   ]
  },
  {
   "cell_type": "markdown",
   "id": "ab17e43d-7c04-4246-ac1a-70331db94eef",
   "metadata": {
    "jp-MarkdownHeadingCollapsed": true
   },
   "source": [
    "📄 These regions may represent the company's core market and provide opportunities for regional optimization and expansion.  \n",
    "\n",
    "  1. **United States**\n",
    "  2. **France**\n",
    "  3. **Mexico**\n",
    "  4. **Australia**\n",
    "  5. **Germany**\n",
    "  6. **United Kingdom**\n",
    "  7. **Brazil**\n",
    "  8. **China**\n",
    "  9. **India**\n",
    "  10. **Indonesia**"
   ]
  },
  {
   "cell_type": "markdown",
   "id": "dd02d1c8-214d-4389-a470-4e3d75f557e1",
   "metadata": {
    "jp-MarkdownHeadingCollapsed": true
   },
   "source": [
    "## 📈 **Advanced KPIs for Supply Chain Analysis**"
   ]
  },
  {
   "cell_type": "markdown",
   "id": "b3184e81-d6f9-47a8-bb8b-c461cc60fa3f",
   "metadata": {
    "jp-MarkdownHeadingCollapsed": true
   },
   "source": [
    "Each following block includes:\n",
    "- ✅ **KPI Name**\n",
    "- 🎯 **Business Purpose**\n",
    "- 📊 **SQL Code**\n",
    "- 💡 **What to Look for in the Result?**\n",
    "- 🧠 **Insight Summary**"
   ]
  },
  {
   "cell_type": "markdown",
   "id": "83815f6b-eb79-47a1-8f6d-5986725164a0",
   "metadata": {
    "jp-MarkdownHeadingCollapsed": true
   },
   "source": [
    "### 1️⃣ Total Revenue and Profit"
   ]
  },
  {
   "cell_type": "markdown",
   "id": "379735e6-ecfc-4ad0-be85-1d49aada9313",
   "metadata": {},
   "source": [
    "🎯 **Why it matters:**  \n",
    "This is your fundamental business performance metric. It helps evaluate **overall company health**, margins and profitability at macro level."
   ]
  },
  {
   "cell_type": "code",
   "execution_count": null,
   "id": "3ca4a97e-c29e-4b76-862f-8f8127b4a684",
   "metadata": {},
   "outputs": [],
   "source": [
    "# 📊 Total Revenue and Profit\n",
    "\n",
    "SELECT\n",
    "    COUNT(DISTINCT order_id) AS total_orders,\n",
    "    ROUND(SUM(order_total), 2) AS total_revenue,\n",
    "    ROUND(SUM(order_profit), 2) AS total_profit,\n",
    "    (ROUND(SUM(order_profit) / SUM(order_total), 4)) * 100 AS profit_margin\n",
    "FROM (\n",
    "    SELECT\n",
    "        order_id,\n",
    "        SUM(item_total) AS order_total,\n",
    "        MAX(order_profit_per_order) AS order_profit\n",
    "    FROM `DataCoSC.orders_cleaned`\n",
    "    GROUP BY order_id\n",
    ")"
   ]
  },
  {
   "cell_type": "markdown",
   "id": "ff51a182-ff69-4827-ae78-b390df9e326b",
   "metadata": {},
   "source": [
    "💡 **What to Look for in the Result:**\n",
    "- Revenue = Total Earnings from Sales\n",
    "- Profit = Remaining Income after Cost\n",
    "- Margin (%) = How much of Sales becomes Profit"
   ]
  },
  {
   "cell_type": "markdown",
   "id": "12feb167-288e-4503-9c32-92d3d6b98243",
   "metadata": {},
   "source": [
    "🧠 **Insight:**\n",
    "A **profit margin between 10-20%** is considered healthy for most product-based businesses. While the current margin falls within this range, it leans toward the **lower end**, suggesting potential leakage. It is recommended to investigate areas such as **excessive discounting**, **low product markup** or **high logistics costs** that may be reducing overall profitability."
   ]
  },
  {
   "cell_type": "markdown",
   "id": "f3a3f39e-72d4-4909-93e0-db8de13306fc",
   "metadata": {
    "jp-MarkdownHeadingCollapsed": true
   },
   "source": [
    "### 2️⃣ Average Days to Ship *(Real vs Scheduled)*"
   ]
  },
  {
   "cell_type": "markdown",
   "id": "628ecca9-b41b-4bce-ba80-38f25ecdc318",
   "metadata": {},
   "source": [
    "🎯 **Why it matters:**  \n",
    "Tracks fulfillment efficiency. Comparing scheduled vs actual shipment reveals potential inefficiencies or overpromising."
   ]
  },
  {
   "cell_type": "code",
   "execution_count": null,
   "id": "bbac7bf4-ee1a-4ee9-88f5-a0866fdff53c",
   "metadata": {},
   "outputs": [],
   "source": [
    "# 🚚 Shipping Timelines\n",
    "\n",
    "SELECT\n",
    "    ROUND(AVG(days_for_shipping), 2) AS avg_actual_days_to_ship,\n",
    "    ROUND(AVG(days_for_shipment_scheduled), 2) AS avg_scheduled_days_to_ship,\n",
    "    ROUND(AVG(days_for_shipping - days_for_shipment_scheduled), 2) AS avg_delay_days\n",
    "FROM `DataCoSC.orders_cleaned`"
   ]
  },
  {
   "cell_type": "markdown",
   "id": "cc270fe4-311f-4de3-b2cb-63b5bd4271bc",
   "metadata": {},
   "source": [
    "💡 **What to Look for in the Result:**\n",
    "- Actual > Scheduled → Delays\n",
    "- Actual ≈ Scheduled → Efficient Operations\n",
    "- Actual >> Scheduled → Promises May be Unrealistic"
   ]
  },
  {
   "cell_type": "markdown",
   "id": "63bb154b-541c-46c2-9320-6f72537efc41",
   "metadata": {},
   "source": [
    "🧠 **Insight:**  \n",
    "If **average shipping delays** consistently exceed **1-2 days**, it may point to issues in **fulfillment workflows**, **inventory readiness** or **carrier coordination**. However, with an average delay of approximately **0.5 days**, current operations appear to be **efficient and well-aligned with scheduled expectations** — supporting strong **SLA compliance** and contributing positively to **customer satisfaction**."
   ]
  },
  {
   "cell_type": "markdown",
   "id": "69eb1075-8f51-4dbf-9a10-f9c014c8d5f9",
   "metadata": {
    "jp-MarkdownHeadingCollapsed": true
   },
   "source": [
    "### 3️⃣ Late Delivery Rate"
   ]
  },
  {
   "cell_type": "markdown",
   "id": "47705f28-32cc-403a-a491-6795ab80dd2b",
   "metadata": {},
   "source": [
    "🎯 **Why it matters:**  \n",
    "Shows how often shipments fail to arrive on time. Late delivery can damage brand reputation and signal breakdowns in supply chain or logistics coordination."
   ]
  },
  {
   "cell_type": "code",
   "execution_count": null,
   "id": "7e952ebc-9ca0-4bcb-bea5-f48970d7f06e",
   "metadata": {},
   "outputs": [],
   "source": [
    "# 📦 Late Delivery Rate\n",
    "\n",
    "SELECT\n",
    "    COUNTIF(late_delivery = 1) AS late_deliveries,\n",
    "    COUNT(order_id) AS total_orders,\n",
    "    ROUND(COUNTIF(late_delivery = 1) / COUNT(order_id), 4) * 100 AS late_delivery_rate\n",
    "FROM (\n",
    "    SELECT\n",
    "        order_id,\n",
    "        late_delivery\n",
    "    FROM `DataCoSC.orders_cleaned`\n",
    "    GROUP BY\n",
    "        order_id,\n",
    "        late_delivery\n",
    ")"
   ]
  },
  {
   "cell_type": "markdown",
   "id": "a1c82c39-a750-41b1-a4b9-8f0d0809be05",
   "metadata": {},
   "source": [
    "💡 **What to Look for in the Result:**  \n",
    "- A **late delivery rate below 5-10%** is acceptable in most industries.\n",
    "- Above 10% → operational issues in shipping method, partner or fulfillment."
   ]
  },
  {
   "cell_type": "markdown",
   "id": "25220a30-4086-48b4-a213-6bf95ffb9c32",
   "metadata": {},
   "source": [
    "🧠 **Insight:**  \n",
    "A **late delivery rate above 10%** is generally considered excessive — in this case, the rate is approximately **54.8%**, indicating significant issues in **last-mile delivery**, **shipping mode realiability** or **logistics execution**. While the **average delay is only about 0.5 days**, the high rate suggests that **scheduled delivery windows may be too aggresive or unrealistic**. Addressing delivery expectations and optimizing logistics is essential to improve **customer satisfaction** and uphold **service-level commitments**."
   ]
  },
  {
   "cell_type": "markdown",
   "id": "f564d304-227b-4735-8735-31b3fb89170a",
   "metadata": {
    "jp-MarkdownHeadingCollapsed": true
   },
   "source": [
    "### 4️⃣ Revenue per Customer (RFM Foundation)"
   ]
  },
  {
   "cell_type": "markdown",
   "id": "2dfb402c-31ea-4a4a-b683-c3123ae084cf",
   "metadata": {},
   "source": [
    "🎯 **Why it matters:**  \n",
    "Forms the base for RFM (Recency, Frequency, Monetary) analysis. Identifies top-spending customers for loyalty, retention and segmentation strategies."
   ]
  },
  {
   "cell_type": "code",
   "execution_count": null,
   "id": "bf0d6bae-8aeb-4df4-9bda-b4acab75b9ea",
   "metadata": {},
   "outputs": [],
   "source": [
    "# 👥 Revenue per Customer\n",
    "\n",
    "SELECT\n",
    "    customer_id,\n",
    "    CONCAT(first_name, ' ', last_name) AS customer_name,\n",
    "    ROUND(SUM(order_total), 2) AS total_spent,\n",
    "    COUNT(order_id) AS total_orders,\n",
    "    ROUND(SUM(order_total) / COUNT(order_id), 2) AS avg_order_value\n",
    "FROM (\n",
    "    SELECT\n",
    "        order_id,\n",
    "        customer_id,\n",
    "        SUM(item_total) AS order_total\n",
    "    FROM `DataCoSC.orders_cleaned`\n",
    "    GROUP BY\n",
    "        order_id,\n",
    "        customer_id\n",
    ") AS orders\n",
    "JOIN `DataCoSC.dim_customer` USING (customer_id)\n",
    "GROUP BY\n",
    "    customer_id,\n",
    "    customer_name\n",
    "ORDER BY\n",
    "    total_spent DESC\n",
    "LIMIT 10"
   ]
  },
  {
   "cell_type": "markdown",
   "id": "c02dffa4-c3f1-4923-b029-17b40c88a6ef",
   "metadata": {},
   "source": [
    "💡 **What to Look for in the Result:**  \n",
    "- High Total Spend = Most Valuable Customers\n",
    "- High Frequency = Loyal Buyers\n",
    "- High AOV = Customers Who Buy Big per Order"
   ]
  },
  {
   "cell_type": "markdown",
   "id": "b319e0fd-0456-41b8-806a-e432e2f304fd",
   "metadata": {},
   "source": [
    "🧠 **Insight:**  \n",
    "Identifying customers with **high total spend** and **frequent purchases** enables targeted **retention strategies** such as **loyalty programs**, **exclusive offers** or **priority support**. Among top customers, **Average Order Value (AOV)** ranges between **527** and **765**, but it's important to note that **AOV alone doesn't reflect customer loyalty**. For instance, some customers place **a single high-value order (e.g., 1500)** — indicating opportunistic buyers rather than consistent revenue drivers. Segmentation should combine **spend** and **frequency** for a more accurate picture of customer value."
   ]
  },
  {
   "cell_type": "markdown",
   "id": "505a4211-64ab-40c0-bc86-acf60ae2002a",
   "metadata": {
    "jp-MarkdownHeadingCollapsed": true
   },
   "source": [
    "### 5️⃣ Shipping Mode Performance"
   ]
  },
  {
   "cell_type": "markdown",
   "id": "e61fe98b-f264-4967-9d56-8fb4cd2fb6cd",
   "metadata": {},
   "source": [
    "🎯 **Why it matters:**  \n",
    "Helps you optimize logistics by identifying the most efficient and reliable shipping methods based on time and delay rates."
   ]
  },
  {
   "cell_type": "code",
   "execution_count": null,
   "id": "de0f8b81-299b-4bf2-b56f-96e982016914",
   "metadata": {},
   "outputs": [],
   "source": [
    "# 🚛 Shipping Mode Performance\n",
    "\n",
    "SELECT\n",
    "    shipping_mode,\n",
    "    COUNT(order_id) AS total_orders,\n",
    "    ROUND(AVG(days_for_shipping), 2) AS avg_shipping_time,\n",
    "    ROUND(AVG(late_delivery), 4) * 100 AS late_delivery_rate\n",
    "FROM (\n",
    "    SELECT\n",
    "        shipping_mode,\n",
    "        order_id,\n",
    "        days_for_shipping,\n",
    "        late_delivery\n",
    "    FROM `DataCoSC.orders_cleaned`\n",
    "    GROUP BY\n",
    "        shipping_mode,\n",
    "        order_id,\n",
    "        days_for_shipping,\n",
    "        late_delivery\n",
    ")\n",
    "GROUP BY shipping_mode\n",
    "ORDER BY total_orders DESC"
   ]
  },
  {
   "cell_type": "markdown",
   "id": "357d48ab-577c-4912-b818-b7311073b1bd",
   "metadata": {},
   "source": [
    "💡 **What to Look for in the Result:**  \n",
    "- Is faster always better?\n",
    "- Are some Shipping Modes late more often?\n",
    "- Which is used most frequently?"
   ]
  },
  {
   "cell_type": "markdown",
   "id": "ade71fa5-8db8-4806-91f6-71ffe4d3e368",
   "metadata": {},
   "source": [
    "🧠 **Insight:**  \n",
    "Some shipping modes may offer **speed** at the expense of **reliability**. For example, methods labeled **\"Same Day\"** may still experience frequent delays, which can undermine **customer trust** and **brand perception**. This analysis should be used to balance **cost**, **timeliness** and **delivery consistency** — guiding decisions to **renegotiate with underperforming carriers** or to **adjust delivery promises** based on historical performance by **shipping mode**."
   ]
  },
  {
   "cell_type": "markdown",
   "id": "5145f31f-2dd3-40eb-a5a9-300abe97bb97",
   "metadata": {
    "jp-MarkdownHeadingCollapsed": true
   },
   "source": [
    "### 6️⃣ Average Items per Order"
   ]
  },
  {
   "cell_type": "markdown",
   "id": "f01edf2a-b931-4051-85e5-bad87f8b06f4",
   "metadata": {},
   "source": [
    "🎯 **Why it matters:**  \n",
    "This KPI reflects **average cart size** and helps understand **buying behavior**. A high number can indicate successful bundling strategies or product pairings."
   ]
  },
  {
   "cell_type": "code",
   "execution_count": null,
   "id": "0ff91b37-5bc7-4088-bc3a-89d1a482e484",
   "metadata": {},
   "outputs": [],
   "source": [
    "# 🛒 Average Items per Order\n",
    "\n",
    "SELECT\n",
    "    ROUND(AVG(items_per_order), 2) AS avg_items_per_order\n",
    "FROM (\n",
    "    SELECT\n",
    "        order_id,\n",
    "        SUM(item_quantity) AS items_per_order\n",
    "    FROM `DataCoSC.orders_cleaned`\n",
    "    GROUP BY order_id\n",
    ")"
   ]
  },
  {
   "cell_type": "markdown",
   "id": "7f7db071-9e0c-4cc5-868c-3812f376c5bf",
   "metadata": {},
   "source": [
    "💡 **What to Look for in the Result:**  \n",
    "- What is the average number of items purchased in a single transaction?\n",
    "- Are customers buying multiple products per order?\n",
    "- Can bundling or cross-selling strategies be improved?"
   ]
  },
  {
   "cell_type": "markdown",
   "id": "0e0e636c-c3b8-4a05-8bab-7715938ed5e5",
   "metadata": {},
   "source": [
    "🧠 **Insight:**  \n",
    "An **average cart size of 1.5-3.0** is typical in many e-commerce or retail operations. Here, the **average items per order** is **5.84** which is notably higher, suggesting effective **bundled promotions** or **multi-item discounts**, potential success in **volume-based strategies** or strong **customer buying intent**. This supports continuing or expanding cross-sell strategies and could also influence **inventory forecasting** and **warehouse optimization**."
   ]
  },
  {
   "cell_type": "markdown",
   "id": "5a840264-6f0c-4326-98cf-e830035b68f2",
   "metadata": {
    "jp-MarkdownHeadingCollapsed": true
   },
   "source": [
    "### 7️⃣ Revenue by Region / Country"
   ]
  },
  {
   "cell_type": "markdown",
   "id": "f600dab3-0f7d-4cb0-8a32-94a6b39ccf8a",
   "metadata": {},
   "source": [
    "🎯 **Why it matters:**  \n",
    "Analyzing revenue by geography allows you to detect **top-performing markets** and **regions with expansion potential** or **logistics inefficiencies**."
   ]
  },
  {
   "cell_type": "code",
   "execution_count": null,
   "id": "b21e03e3-36bc-48a4-8665-3e2c1f31bc8f",
   "metadata": {},
   "outputs": [],
   "source": [
    "# 🌎 Revenue by Region / Country\n",
    "\n",
    "SELECT\n",
    "    order_country,\n",
    "    order_region,\n",
    "    ROUND(SUM(item_total), 2) AS total_revenue,\n",
    "    ROUND(SUM(order_profit_per_order), 2) AS total_profit,\n",
    "    ROUND((SUM(order_profit_per_order) / SUM(item_total)) * 100, 2) AS profit_margin,\n",
    "    COUNT(DISTINCT order_id) AS total_orders,\n",
    "    ROUND(SUM(SUM(item_total)) OVER (PARTITION BY order_country), 2) AS country_total_revenue\n",
    "FROM `DataCoSC.orders_cleaned`\n",
    "GROUP BY\n",
    "    order_country,\n",
    "    order_region\n",
    "ORDER BY\n",
    "    country_total_revenue DESC,\n",
    "    total_revenue DESC"
   ]
  },
  {
   "cell_type": "markdown",
   "id": "a28048f5-685b-458a-9228-f1eb2244df09",
   "metadata": {},
   "source": [
    "💡 **What to Look for in the Result:**  \n",
    "- What countries drive the most revenue?\n",
    "- Are high-revenue regions also the most profitable?\n",
    "- Any countries with high order counts but low profit margins?"
   ]
  },
  {
   "cell_type": "markdown",
   "id": "a50ae8bf-eafe-40ea-b605-9b81ff518d93",
   "metadata": {},
   "source": [
    "🧠 **Insight:**  \n",
    "There is no significant **regional imbalance** in performance — we don't observe countries with with strong sales but **disproportionately low profitability**. This suggests that **discounting strategies**,**logistics** and **cost structures** are relatively consistent across markets.  \n",
    "Most of the sales are **concentrated in North America**, while **Europe**, **Asia** and **Australia** contribute moderate revenue. These regions could present **growth opportunities** with focused market expansion or pricing strategies."
   ]
  },
  {
   "cell_type": "markdown",
   "id": "7fa6904a-e5ce-4608-be49-9a41f956106f",
   "metadata": {
    "jp-MarkdownHeadingCollapsed": true
   },
   "source": [
    "## 📝 **Reporting Summary**"
   ]
  },
  {
   "cell_type": "markdown",
   "id": "b6326c29-e3d2-4446-88d4-ae5dd8b1ff9d",
   "metadata": {},
   "source": [
    "This supply chain analytics project focused on uncovering **operational**, **customer** and **logistics insights** using SQL on a structured snowflake schema in Google BigQuery.  \n",
    "  \n",
    "A clean schema was developed from the raw dataset, **enabling granular exploration of metrics** such as **shipping efficiency**, **revenue contribution**, **product performance** and **customer value**."
   ]
  },
  {
   "cell_type": "markdown",
   "id": "4d399b19-532f-4f1c-8ba3-3ee044fe847e",
   "metadata": {
    "jp-MarkdownHeadingCollapsed": true
   },
   "source": [
    "### 🔑 Key Metrics & KPIs"
   ]
  },
  {
   "cell_type": "markdown",
   "id": "77fbd08f-998d-4f0d-ae6f-092dd1de95c9",
   "metadata": {},
   "source": [
    "- **Total Orders:** `65,752 orders`\n",
    "- **Total Revenue:** `$33,054,402.38`\n",
    "- **Average Cart Size:** `5.84 items`\n",
    "- **Average Shipping Delay:** `0.57 days`\n",
    "- **Late Delivery Rate:** `54.82%`\n",
    "- **Profit Margin:** `12.82%`\n",
    "- **Top Customers:** `Contribute up to $9,436.61 individually`"
   ]
  },
  {
   "cell_type": "markdown",
   "id": "71c680c7-f4fa-4fbf-8ec6-7b173fad5861",
   "metadata": {
    "jp-MarkdownHeadingCollapsed": true
   },
   "source": [
    "### 📌 Key Business Insights"
   ]
  },
  {
   "cell_type": "markdown",
   "id": "34c46a07-3126-48bd-9e96-2042c8a3bbb2",
   "metadata": {},
   "source": [
    "- **Shipping Performance**: While the **averate delay is low**, the **late delivery rate remains high**, suggesting issues like **overly aggressive scheduling** or **last-mile inefficiencies**.\n",
    "- **Profit Margins**: Slightly higher than typical retail benchmarks, but potential **margin erosion** could stem from **heavy discounting** or**logistics costs**.\n",
    "- **Cart Size**: Above industry average — indicating strong **bundled purchasing behavior** or successful **volume-based incentives**.\n",
    "- **Regional Sales**: **North America leads in revenue**, but **Europe**, **Asia** and **Australia** show **growth potential** and merit targeted **market expansion** strategies.\n",
    "- **High-Value Customers**: A small group of customers contributes a **significant share of total revenue**, supporting the case for **segmentation**, **VIP loyalty programs** and **retention marketing**."
   ]
  },
  {
   "cell_type": "markdown",
   "id": "e22f2ab4-9e97-4c8a-95bc-9dd301cd6ed7",
   "metadata": {
    "jp-MarkdownHeadingCollapsed": true
   },
   "source": [
    "### ✅ Recommendations"
   ]
  },
  {
   "cell_type": "markdown",
   "id": "c482b03f-2179-4ab8-ba42-0a830263735d",
   "metadata": {},
   "source": [
    "- **Reevaluate SLA Commitments**: Recalibrate expected delivery windows and prioritize high-delay shipping modes for process optimization.\n",
    "- **Margin Optimization**: Analyze discount thresholds, revisit underperforming product pricing and audit regions with low profitability.\n",
    "- **Expand in Emerging Markets**: Explore targeted campaigns in Europe and Asia based on stable order volumes and moderate profitability.\n",
    "- **Boost Cross-Sell Tactics**: Leverage the large cart sizes to introduce smart product recommendations, bundles and category-targeted promotions.\n",
    "- **Segment High-Value Customers**: Create customer tiers to apply differentiated engagement — VIP offers, exclusive deals or early-access launches."
   ]
  },
  {
   "cell_type": "markdown",
   "id": "522358c6-6148-48d3-a913-fcdbe08076fa",
   "metadata": {
    "jp-MarkdownHeadingCollapsed": true
   },
   "source": [
    "### 📁 What Was Built"
   ]
  },
  {
   "cell_type": "markdown",
   "id": "10518df6-fbde-43ec-889f-fbd50f1dcee1",
   "metadata": {},
   "source": [
    "- **Normalized Schema** (fact + 5 dimension tables)\n",
    "- **7 Advanced KPIs** including **profit margin**, **AOV**, **delay rates**, etc.\n",
    "- **Insight-Driven Analysis** tied to business recommendations\n",
    "- Documented in a clear, organized Jupyter Notebook with SQL-first logic"
   ]
  },
  {
   "cell_type": "markdown",
   "id": "2a903073-310b-4453-9abf-a3ca3a193915",
   "metadata": {
    "jp-MarkdownHeadingCollapsed": true
   },
   "source": [
    "### 🚀 Next Steps"
   ]
  },
  {
   "cell_type": "markdown",
   "id": "d82d61f0-dc13-4ab8-b03c-3ebb6b7ea489",
   "metadata": {},
   "source": [
    "- Add **Power BI dashboards** to visualize performance trends\n",
    "- Enhance CLTV model with time-based analysis (Recency, Frequency, Monetary)\n",
    "- Integrate cancellation data for net revenue analysis\n",
    "- Segment customers by region and product preferences for advanced targeting"
   ]
  }
 ],
 "metadata": {
  "kernelspec": {
   "display_name": "Python 3 (ipykernel)",
   "language": "python",
   "name": "python3"
  },
  "language_info": {
   "codemirror_mode": {
    "name": "ipython",
    "version": 3
   },
   "file_extension": ".py",
   "mimetype": "text/x-python",
   "name": "python",
   "nbconvert_exporter": "python",
   "pygments_lexer": "ipython3",
   "version": "3.12.3"
  }
 },
 "nbformat": 4,
 "nbformat_minor": 5
}
